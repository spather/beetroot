{
 "cells": [
  {
   "attachments": {},
   "cell_type": "markdown",
   "metadata": {},
   "source": [
    "# api\n",
    "\n",
    "> Main entrypoint api for beetroot"
   ]
  },
  {
   "cell_type": "code",
   "execution_count": null,
   "metadata": {},
   "outputs": [
    {
     "name": "stdout",
     "output_type": "stream",
     "text": [
      "The autoreload extension is already loaded. To reload it, use:\n",
      "  %reload_ext autoreload\n"
     ]
    }
   ],
   "source": [
    "%load_ext autoreload\n",
    "%autoreload 2"
   ]
  },
  {
   "cell_type": "code",
   "execution_count": null,
   "metadata": {},
   "outputs": [],
   "source": [
    "#| default_exp api"
   ]
  },
  {
   "cell_type": "code",
   "execution_count": null,
   "metadata": {},
   "outputs": [],
   "source": [
    "#| hide\n",
    "from nbdev.showdoc import *"
   ]
  },
  {
   "cell_type": "code",
   "execution_count": null,
   "metadata": {},
   "outputs": [],
   "source": [
    "#| hide\n",
    "from fastcore.test import *"
   ]
  },
  {
   "cell_type": "code",
   "execution_count": null,
   "metadata": {},
   "outputs": [],
   "source": [
    "#| hide\n",
    "#| export\n",
    "\n",
    "import io\n",
    "from IPython.display import Markdown\n",
    "import json\n",
    "import os\n",
    "from pathlib import Path\n",
    "from typing import Dict"
   ]
  },
  {
   "cell_type": "code",
   "execution_count": null,
   "metadata": {},
   "outputs": [],
   "source": [
    "# | export\n",
    "from beetroot.source import emit_markdown_source, emit_python_source\n",
    "from beetroot.outputs import (\n",
    "    emit_display_data_output,\n",
    "    emit_execute_result_output,\n",
    "    emit_stream_output,\n",
    ")"
   ]
  },
  {
   "cell_type": "code",
   "execution_count": null,
   "metadata": {},
   "outputs": [],
   "source": [
    "# | export\n",
    "def export_notebook(nb_json: Dict) -> str:\n",
    "    stream = io.StringIO()\n",
    "    for cell in nb_json['cells']:\n",
    "        if cell['cell_type'] == 'markdown':\n",
    "            emit_markdown_source(cell['source'], stream)\n",
    "            stream.write('\\n')\n",
    "        elif cell['cell_type'] == 'code':\n",
    "            should_show_output = emit_python_source(cell['source'], stream)\n",
    "            stream.write('\\n')\n",
    "            \n",
    "            if not should_show_output:\n",
    "                continue\n",
    "            \n",
    "            for output in cell['outputs']:\n",
    "                output_type = output['output_type']\n",
    "                if output_type == 'stream':\n",
    "                    emit_stream_output(output, stream)\n",
    "                elif output_type == 'display_data':\n",
    "                    emit_display_data_output(output, stream)\n",
    "                elif output_type == 'execute_result':\n",
    "                    emit_execute_result_output(output, stream)\n",
    "                stream.write('\\n')\n",
    "    \n",
    "    stream.seek(0)\n",
    "    return stream.read()\n",
    "    "
   ]
  },
  {
   "cell_type": "code",
   "execution_count": null,
   "metadata": {},
   "outputs": [
    {
     "data": {
      "text/markdown": [
       "```python\n",
       "name = 'world'\n",
       "print(f\"hello, {name}\")\n",
       "```\n",
       "\n",
       "\n",
       "```\n",
       "hello, world\n",
       "```\n",
       "\n",
       "# This is Markdown\n",
       "This is a [link](https://www.google.com).\n",
       "This is:\n",
       "\n",
       "* a \n",
       "* bulleted\n",
       "* list\n",
       "\n",
       "Yup.\n",
       "\n",
       "```python\n",
       "# Multiline stream output\n",
       "print(\"hello, world\")\n",
       "print(\"a second line\")\n",
       "print(\"a third line\")\n",
       "```\n",
       "\n",
       "\n",
       "```\n",
       "hello, world\n",
       "a second line\n",
       "a third line\n",
       "```\n",
       "\n",
       "```python\n",
       "# Single line stream output with no trailing newline\n",
       "import sys\n",
       "sys.stdout.write('hello')\n",
       "```\n",
       "\n",
       "\n",
       "```\n",
       "hello\n",
       "```\n",
       "\n",
       "```\n",
       "5\n",
       "```\n",
       "\n",
       "```python\n",
       "# Multiline stream output with no trailing newline\n",
       "print(\"hello with a newline\")\n",
       "sys.stdout.write(\"hello\")\n",
       "```\n",
       "\n",
       "\n",
       "```\n",
       "hello with a newline\n",
       "hello\n",
       "```\n",
       "\n",
       "```\n",
       "5\n",
       "```\n",
       "\n",
       "\n",
       "```\n",
       "This output should show but the source code shouldn't\n",
       "```\n",
       "\n",
       "```python\n",
       "# The source code for this cell will show but its output won't \n",
       "\n",
       "print(\"This output should not show\")\n",
       "```\n",
       "\n",
       "\n",
       "The cell below is intentionally left blank to test handling blank cells - do not remove it\n",
       "\n",
       "```python\n",
       "\n",
       "```\n",
       "\n",
       "\n",
       "The above cell was intentionally left blank to test handling blank cells - do not remove it\n",
       "\n"
      ],
      "text/plain": [
       "<IPython.core.display.Markdown object>"
      ]
     },
     "execution_count": null,
     "metadata": {},
     "output_type": "execute_result"
    }
   ],
   "source": [
    "# Get path to this notebook\n",
    "nbpath = os.path.dirname(os.path.realpath('__file__'))\n",
    "\n",
    "# Form the path to the testcase notebook\n",
    "test_nb_path = Path(nbpath) / '../testcase_notebooks' / 'testcase_notebook.ipynb'\n",
    "\n",
    "nb_json = json.loads(test_nb_path.read_text())\n",
    "Markdown(export_notebook(nb_json))"
   ]
  },
  {
   "cell_type": "code",
   "execution_count": null,
   "metadata": {},
   "outputs": [],
   "source": [
    "#| hide\n",
    "import nbdev; nbdev.nbdev_export()"
   ]
  }
 ],
 "metadata": {
  "kernelspec": {
   "display_name": "python3",
   "language": "python",
   "name": "python3"
  }
 },
 "nbformat": 4,
 "nbformat_minor": 2
}
