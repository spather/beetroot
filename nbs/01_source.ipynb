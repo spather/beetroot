{
 "cells": [
  {
   "attachments": {},
   "cell_type": "markdown",
   "metadata": {},
   "source": [
    "# source\n",
    "\n",
    "> Code that emits markdown from the `source` element of various notebook cell types"
   ]
  },
  {
   "cell_type": "code",
   "execution_count": null,
   "metadata": {},
   "outputs": [
    {
     "name": "stdout",
     "output_type": "stream",
     "text": [
      "The autoreload extension is already loaded. To reload it, use:\n",
      "  %reload_ext autoreload\n"
     ]
    }
   ],
   "source": [
    "%load_ext autoreload\n",
    "%autoreload 2"
   ]
  },
  {
   "cell_type": "code",
   "execution_count": null,
   "metadata": {},
   "outputs": [],
   "source": [
    "#| default_exp source"
   ]
  },
  {
   "cell_type": "code",
   "execution_count": null,
   "metadata": {},
   "outputs": [],
   "source": [
    "#| hide\n",
    "from nbdev.showdoc import *"
   ]
  },
  {
   "cell_type": "code",
   "execution_count": null,
   "metadata": {},
   "outputs": [],
   "source": [
    "#| hide\n",
    "from fastcore.test import *"
   ]
  },
  {
   "cell_type": "code",
   "execution_count": null,
   "metadata": {},
   "outputs": [],
   "source": [
    "#| hide\n",
    "#| export\n",
    "import io\n",
    "from typing import Dict, Iterable, Optional, Sequence, Tuple"
   ]
  },
  {
   "cell_type": "code",
   "execution_count": null,
   "metadata": {},
   "outputs": [],
   "source": [
    "#| export\n",
    "from beetroot.transformations import emit_with_transformation, Transformer"
   ]
  },
  {
   "cell_type": "code",
   "execution_count": null,
   "metadata": {},
   "outputs": [],
   "source": [
    "# | exporti\n",
    "def emit_markdown_source(markdown: Iterable[str], stream: io.TextIOBase):\n",
    "    for line in markdown:\n",
    "        stream.write(line)\n",
    "    stream.write('\\n')"
   ]
  },
  {
   "cell_type": "code",
   "execution_count": null,
   "metadata": {},
   "outputs": [],
   "source": [
    "# | exporti\n",
    "\n",
    "\n",
    "def is_directive_line(line: str):\n",
    "    return line.startswith('#|') or line.startswith('# |')\n",
    "\n",
    "\n",
    "def parse_directive_line(line: str) -> Tuple[str, Optional[bool]]:\n",
    "    assert is_directive_line(line)\n",
    "\n",
    "    directive = line.lstrip('# |').strip()\n",
    "    parts = [part.strip() for part in directive.split(':')]\n",
    "\n",
    "    # A directive is either a single key or key: value\n",
    "    assert len(parts) == 1 or len(parts) == 2\n",
    "    key, *value_list = parts\n",
    "    value_str: Optional[str] = value_list[0] if value_list else None\n",
    "\n",
    "    # Deal with string forms of true and false\n",
    "    # These directives are technically YAML, so allowing all the values\n",
    "    # for bool per [the spec](https://yaml.org/type/bool.html).\n",
    "\n",
    "    true_vals = [\n",
    "        'y',\n",
    "        'Y',\n",
    "        'yes',\n",
    "        'Yes',\n",
    "        'YES',\n",
    "        'true',\n",
    "        'True',\n",
    "        'TRUE',\n",
    "        'on',\n",
    "        'On',\n",
    "        'ON',\n",
    "    ]\n",
    "    false_vals = [\n",
    "        'n',\n",
    "        'N',\n",
    "        'no',\n",
    "        'No',\n",
    "        'NO',\n",
    "        'false',\n",
    "        'False',\n",
    "        'FALSE',\n",
    "        'off',\n",
    "        'Off',\n",
    "        'OFF',\n",
    "    ]\n",
    "\n",
    "    value: Optional[bool] = None\n",
    "    if value_str in true_vals:\n",
    "        value = True\n",
    "    elif value_str in false_vals:\n",
    "        value = False\n",
    "\n",
    "    return key, value"
   ]
  },
  {
   "cell_type": "code",
   "execution_count": null,
   "metadata": {},
   "outputs": [],
   "source": [
    "#| hide \n",
    "test_cases = [\n",
    "    {\n",
    "        'line': '#| hide',\n",
    "        'expected': ('hide', None)\n",
    "    },\n",
    "    {\n",
    "        'line': '#| echo: true',\n",
    "        'expected': ('echo', True)\n",
    "    },\n",
    "    {\n",
    "        'line': '# | echo: false',\n",
    "        'expected': ('echo', False)\n",
    "    },\n",
    "    {\n",
    "        'line': '# | code-fold: On',\n",
    "        'expected': ('code-fold', True)\n",
    "    },\n",
    "]\n",
    "\n",
    "for tc in test_cases:\n",
    "    actual = parse_directive_line(tc['line'])\n",
    "    test_eq(actual, tc['expected'])"
   ]
  },
  {
   "cell_type": "code",
   "execution_count": null,
   "metadata": {},
   "outputs": [],
   "source": [
    "# | exporti\n",
    "def parse_and_extract_directives_from_python_source(\n",
    "    source: Sequence[str],\n",
    ") -> Tuple[Sequence[str], Dict[str, Optional[bool]]]:\n",
    "    directives = {}\n",
    "    i = 0  # initialize explicitly because `source` may be empty\n",
    "    for i, line in enumerate(source):\n",
    "        if is_directive_line(line):\n",
    "            key, value = parse_directive_line(line)\n",
    "            directives[key] = value\n",
    "        else:\n",
    "            # Break out on hitting the first non-directive line\n",
    "            break\n",
    "\n",
    "    return source[i:], directives"
   ]
  },
  {
   "cell_type": "code",
   "execution_count": null,
   "metadata": {},
   "outputs": [
    {
     "name": "stdout",
     "output_type": "stream",
     "text": [
      "Running test case: Basic\n",
      "Running test case: Mix of # | and #|\n",
      "Running test case: No directives\n",
      "Running test case: Directive after first non-directive line is ignored\n"
     ]
    }
   ],
   "source": [
    "# | hide\n",
    "# Test extraction of directives\n",
    "\n",
    "test_cases = [\n",
    "    {\n",
    "        'name': 'Basic',\n",
    "        'python_source': [\n",
    "            '# | echo: false',\n",
    "            '# | output: false',\n",
    "            'name = \\'world\\'\\n',\n",
    "            'print(f\"hello, {name}\")',\n",
    "        ],\n",
    "        'expected_rest_of_source': ['name = \\'world\\'\\n', 'print(f\"hello, {name}\")'],\n",
    "        'expected_directives': {\n",
    "            'echo': False,\n",
    "            'output': False,\n",
    "        },\n",
    "    },\n",
    "    {\n",
    "        'name': 'Mix of # | and #|',\n",
    "        'python_source': [\n",
    "            '# | echo: false',\n",
    "            '#| output: false',\n",
    "            'name = \\'world\\'\\n',\n",
    "            'print(f\"hello, {name}\")',\n",
    "        ],\n",
    "        'expected_rest_of_source': ['name = \\'world\\'\\n', 'print(f\"hello, {name}\")'],\n",
    "        'expected_directives': {\n",
    "            'echo': False,\n",
    "            'output': False,\n",
    "        },\n",
    "    },\n",
    "    {\n",
    "        'name': 'No directives',\n",
    "        'python_source': [\n",
    "            'name = \\'world\\'\\n',\n",
    "            'print(f\"hello, {name}\")',\n",
    "        ],\n",
    "        'expected_rest_of_source': ['name = \\'world\\'\\n', 'print(f\"hello, {name}\")'],\n",
    "        'expected_directives': {},\n",
    "    },\n",
    "    {\n",
    "        'name': 'Directive after first non-directive line is ignored',\n",
    "        'python_source': [\n",
    "            '# | echo: false',\n",
    "            '#| output: false',\n",
    "            'name = \\'world\\'\\n',\n",
    "            '# | ignore: true\\n',\n",
    "            'print(f\"hello, {name}\")',\n",
    "        ],\n",
    "        'expected_rest_of_source': [\n",
    "            'name = \\'world\\'\\n',\n",
    "            '# | ignore: true\\n',\n",
    "            'print(f\"hello, {name}\")',\n",
    "        ],\n",
    "        'expected_directives': {\n",
    "            'echo': False,\n",
    "            'output': False,\n",
    "        },\n",
    "    },\n",
    "]\n",
    "\n",
    "for tc in test_cases:\n",
    "    name = tc['name']\n",
    "    python_source = tc['python_source']\n",
    "    expected_rest_of_source = tc['expected_rest_of_source']\n",
    "    expected_directives = tc['expected_directives']\n",
    "\n",
    "    print(f\"Running test case: {name}\")\n",
    "    rest_of_source, directives = parse_and_extract_directives_from_python_source(\n",
    "        python_source\n",
    "    )\n",
    "\n",
    "    test_eq(rest_of_source, expected_rest_of_source)\n",
    "    test_eq(directives, expected_directives)"
   ]
  },
  {
   "cell_type": "code",
   "execution_count": null,
   "metadata": {},
   "outputs": [],
   "source": [
    "# | exporti\n",
    "def emit_python_source(source: Sequence[str], stream: io.TextIOBase):\n",
    "    stream.write('```python\\n')\n",
    "    for line in source:\n",
    "        stream.write(line)\n",
    "    stream.write('\\n```\\n\\n')\n"
   ]
  },
  {
   "cell_type": "code",
   "execution_count": null,
   "metadata": {},
   "outputs": [],
   "source": [
    "# | export\n",
    "class SourceHandler:\n",
    "    \"\"\"High-level API for emitting cell source\"\"\"\n",
    "    def __init__(\n",
    "        self,\n",
    "        stream: io.TextIOBase,\n",
    "        transformers_map: Dict[str, Transformer] = {},\n",
    "    ):\n",
    "        self.stream = stream\n",
    "        self.transformers_map = transformers_map\n",
    "\n",
    "    def emit_markdown(self, lines: Sequence[str]):\n",
    "        emit_with_transformation(\n",
    "            self.transformers_map.get('markdown/source', Transformer()),\n",
    "            lines,\n",
    "            emit_markdown_source,\n",
    "            self.stream,\n",
    "        )\n",
    "\n",
    "    def emit_python_source(self, lines: Sequence[str]) -> Tuple[bool, bool]:\n",
    "        python_source, directives = parse_and_extract_directives_from_python_source(\n",
    "            lines\n",
    "        )\n",
    "\n",
    "        # Handle directives per https://quarto.org/docs/reference/cells/cells-jupyter.html#code-output\n",
    "        # and https://quarto.org/docs/reference/cells/cells-jupyter.html#cell-output.\n",
    "        should_echo = 'echo' not in directives or directives['echo'] == True\n",
    "        should_show_output = 'output' not in directives or directives['output'] == True\n",
    "\n",
    "        if should_echo:\n",
    "            emit_with_transformation(\n",
    "                self.transformers_map.get('python/source', Transformer()),\n",
    "                python_source,\n",
    "                emit_python_source,\n",
    "                self.stream,\n",
    "            )\n",
    "\n",
    "        return should_echo, should_show_output"
   ]
  },
  {
   "cell_type": "code",
   "execution_count": null,
   "metadata": {},
   "outputs": [
    {
     "data": {
      "text/markdown": [
       "---\n",
       "\n",
       "[source](https://github.com/spather/beetroot/blob/main/beetroot/source.py#L109){target=\"_blank\" style=\"float:right; font-size:smaller\"}\n",
       "\n",
       "### SourceHandler.emit_markdown\n",
       "\n",
       ">      SourceHandler.emit_markdown (lines:Sequence[str])"
      ],
      "text/plain": [
       "---\n",
       "\n",
       "[source](https://github.com/spather/beetroot/blob/main/beetroot/source.py#L109){target=\"_blank\" style=\"float:right; font-size:smaller\"}\n",
       "\n",
       "### SourceHandler.emit_markdown\n",
       "\n",
       ">      SourceHandler.emit_markdown (lines:Sequence[str])"
      ]
     },
     "execution_count": null,
     "metadata": {},
     "output_type": "execute_result"
    }
   ],
   "source": [
    "show_doc(SourceHandler.emit_markdown)"
   ]
  },
  {
   "cell_type": "code",
   "execution_count": null,
   "metadata": {},
   "outputs": [
    {
     "name": "stdout",
     "output_type": "stream",
     "text": [
      "# This is Markdown\n",
      "This is a [link](https://www.google.com).\n",
      "This is:\n",
      "\n",
      "* a \n",
      "* bulleted\n",
      "* list\n",
      "\n",
      "Yup.\n",
      "\n"
     ]
    }
   ],
   "source": [
    "markdown_source = [\n",
    "    '# This is Markdown\\n',\n",
    "    'This is a [link](https://www.google.com).\\n',\n",
    "    'This is:\\n',\n",
    "    '\\n',\n",
    "    '* a \\n',\n",
    "    '* bulleted\\n',\n",
    "    '* list\\n',\n",
    "    '\\n',\n",
    "    'Yup.',\n",
    "]\n",
    "stream = io.StringIO()\n",
    "src_handler = SourceHandler(stream)\n",
    "\n",
    "src_handler.emit_markdown(markdown_source)\n",
    "\n",
    "stream.seek(0)\n",
    "output = stream.read()\n",
    "\n",
    "expected = \"\"\"\\\n",
    "# This is Markdown\n",
    "This is a [link](https://www.google.com).\n",
    "This is:\n",
    "\n",
    "* a \n",
    "* bulleted\n",
    "* list\n",
    "\n",
    "Yup.\n",
    "\"\"\"\n",
    "\n",
    "test_eq(output, expected)\n",
    "print(output)"
   ]
  },
  {
   "cell_type": "code",
   "execution_count": null,
   "metadata": {},
   "outputs": [
    {
     "data": {
      "text/markdown": [
       "---\n",
       "\n",
       "[source](https://github.com/spather/beetroot/blob/main/beetroot/source.py#L117){target=\"_blank\" style=\"float:right; font-size:smaller\"}\n",
       "\n",
       "### SourceHandler.emit_python_source\n",
       "\n",
       ">      SourceHandler.emit_python_source (lines:Sequence[str])"
      ],
      "text/plain": [
       "---\n",
       "\n",
       "[source](https://github.com/spather/beetroot/blob/main/beetroot/source.py#L117){target=\"_blank\" style=\"float:right; font-size:smaller\"}\n",
       "\n",
       "### SourceHandler.emit_python_source\n",
       "\n",
       ">      SourceHandler.emit_python_source (lines:Sequence[str])"
      ]
     },
     "execution_count": null,
     "metadata": {},
     "output_type": "execute_result"
    }
   ],
   "source": [
    "show_doc(SourceHandler.emit_python_source)"
   ]
  },
  {
   "cell_type": "code",
   "execution_count": null,
   "metadata": {},
   "outputs": [
    {
     "name": "stdout",
     "output_type": "stream",
     "text": [
      "```python\n",
      "name = 'world'\n",
      "print(f\"hello, {name}\")\n",
      "```\n",
      "\n",
      "\n"
     ]
    }
   ],
   "source": [
    "python_source = ['name = \\'world\\'\\n', 'print(f\"hello, {name}\")']\n",
    "\n",
    "stream = io.StringIO()\n",
    "src_handler = SourceHandler(stream)\n",
    "\n",
    "did_echo, should_show_output = src_handler.emit_python_source(python_source)\n",
    "\n",
    "stream.seek(0)\n",
    "output = stream.read()\n",
    "\n",
    "expected = \"\"\"\\\n",
    "```python\n",
    "name = 'world'\n",
    "print(f\"hello, {name}\")\n",
    "```\n",
    "\n",
    "\"\"\"\n",
    "\n",
    "test_eq(output, expected)\n",
    "test_eq(did_echo, True)\n",
    "test_eq(should_show_output, True)\n",
    "print(output)"
   ]
  },
  {
   "cell_type": "code",
   "execution_count": null,
   "metadata": {},
   "outputs": [],
   "source": [
    "#| hide\n",
    "import nbdev; nbdev.nbdev_export()"
   ]
  }
 ],
 "metadata": {
  "kernelspec": {
   "display_name": "python3",
   "language": "python",
   "name": "python3"
  }
 },
 "nbformat": 4,
 "nbformat_minor": 4
}
