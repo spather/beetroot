{
 "cells": [
  {
   "attachments": {},
   "cell_type": "markdown",
   "metadata": {},
   "source": [
    "# beetroot\n",
    "\n",
    "> A simple tool to export Jupyter notebooks to markdown"
   ]
  },
  {
   "attachments": {},
   "cell_type": "markdown",
   "metadata": {},
   "source": [
    "## Install"
   ]
  },
  {
   "attachments": {},
   "cell_type": "markdown",
   "metadata": {},
   "source": [
    "```sh\n",
    "pip install beetroot\n",
    "```"
   ]
  },
  {
   "attachments": {},
   "cell_type": "markdown",
   "metadata": {},
   "source": [
    "## How to use"
   ]
  },
  {
   "attachments": {},
   "cell_type": "markdown",
   "metadata": {},
   "source": [
    "From the command-line:\n",
    "\n",
    "```sh\n",
    "br_export path/to/notebook.ipynb path/to/output_directory\n",
    "```"
   ]
  },
  {
   "attachments": {},
   "cell_type": "markdown",
   "metadata": {},
   "source": [
    "As a Python API:"
   ]
  },
  {
   "cell_type": "code",
   "execution_count": null,
   "metadata": {},
   "outputs": [],
   "source": [
    "# | eval: false\n",
    "import json \n",
    "from pathlib import Path \n",
    "\n",
    "from beetroot.api import export_notebook\n",
    "\n",
    "# Input and output paths\n",
    "nb_path = Path('path/to/notebook.ipynb')\n",
    "output_path = Path('path/to/output/directory')\n",
    "\n",
    "# Load the notebook contents as JSON\n",
    "nb_json = json.loads(nb_path.read_text())\n",
    "\n",
    "# Export the notebook\n",
    "markdown, completions = export_notebook(nb_json)\n",
    "\n",
    "# Run the completions to write all external files\n",
    "for completion in completions:\n",
    "    completion(output_path)\n",
    "\n",
    "# Write the markdown to an output file\n",
    "md_filename = output_path / nb_path.with_suffix('.md').name\n",
    "with open(md_filename, 'w') as md_file:\n",
    "    md_file.write(markdown)"
   ]
  },
  {
   "attachments": {},
   "cell_type": "markdown",
   "metadata": {},
   "source": [
    "## Dev Environment Setup\n",
    "\n",
    "1. Create a virtual environment for beetroot development:\n",
    "\n",
    "```sh\n",
    "python3 -m venv ~/venv/venv-beetroot-dev\n",
    "source ~/venv/venv-beetroot-dev/bin/activate\n",
    "```\n",
    "\n",
    "2. Install requirements\n",
    "\n",
    "```sh\n",
    "pip install -r requirements.dev.txt\n",
    "```"
   ]
  },
  {
   "attachments": {},
   "cell_type": "markdown",
   "metadata": {},
   "source": [
    "### Before committing changes\n",
    "\n",
    "Run the following to ensure all dependencies are generated from notebooks and notebooks are cleaned:\n",
    "\n",
    "```sh \n",
    "nbdev_export && mypy beetroot/ && nbdev_test && nbdev_clean && nbdev_clean --fname test_artifacts/ && nbdev_readme\n",
    "```"
   ]
  }
 ],
 "metadata": {
  "kernelspec": {
   "display_name": "python3",
   "language": "python",
   "name": "python3"
  }
 },
 "nbformat": 4,
 "nbformat_minor": 4
}
