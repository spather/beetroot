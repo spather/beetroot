{
 "cells": [
  {
   "attachments": {},
   "cell_type": "markdown",
   "metadata": {},
   "source": [
    "# beetroot\n",
    "\n",
    "> A simple tool to export Jupyter notebooks to markdown"
   ]
  },
  {
   "attachments": {},
   "cell_type": "markdown",
   "metadata": {},
   "source": [
    "## Install"
   ]
  },
  {
   "attachments": {},
   "cell_type": "markdown",
   "metadata": {},
   "source": [
    "```sh\n",
    "pip install beetroot\n",
    "```"
   ]
  },
  {
   "attachments": {},
   "cell_type": "markdown",
   "metadata": {},
   "source": [
    "## How to use"
   ]
  },
  {
   "attachments": {},
   "cell_type": "markdown",
   "metadata": {},
   "source": [
    "From the command-line:\n",
    "\n",
    "```sh\n",
    "br_export path/to/notebook\n",
    "```"
   ]
  },
  {
   "attachments": {},
   "cell_type": "markdown",
   "metadata": {},
   "source": [
    "As a Python API:"
   ]
  },
  {
   "cell_type": "code",
   "execution_count": null,
   "metadata": {},
   "outputs": [],
   "source": [
    "# | eval: false\n",
    "import json \n",
    "from pathlib import Path \n",
    "\n",
    "from beetroot.api import export_notebook\n",
    "\n",
    "nb_path = 'path/to/notebook'\n",
    "nb_json = json.loads(Path(nb_path).read_text())\n",
    "markdown = export_notebook(nb_json)"
   ]
  },
  {
   "attachments": {},
   "cell_type": "markdown",
   "metadata": {},
   "source": [
    "## Dev Environment Setup\n",
    "\n",
    "1. Create a virtual environment for beetroot development:\n",
    "\n",
    "```sh\n",
    "python3 -m venv ~/venv/venv-beetroot-dev\n",
    "source ~/venv/venv-beetroot-dev/bin/activate\n",
    "```\n",
    "\n",
    "2. Install requirements\n",
    "\n",
    "```sh\n",
    "pip install -r requirements.dev.txt\n",
    "```"
   ]
  }
 ],
 "metadata": {
  "kernelspec": {
   "display_name": "python3",
   "language": "python",
   "name": "python3"
  }
 },
 "nbformat": 4,
 "nbformat_minor": 4
}
