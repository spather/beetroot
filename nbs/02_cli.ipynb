{
 "cells": [
  {
   "attachments": {},
   "cell_type": "markdown",
   "metadata": {},
   "source": [
    "# cli\n",
    "\n",
    "> Functions that implement the top-level cli for the beetroot"
   ]
  },
  {
   "cell_type": "code",
   "execution_count": null,
   "metadata": {},
   "outputs": [
    {
     "name": "stdout",
     "output_type": "stream",
     "text": [
      "The autoreload extension is already loaded. To reload it, use:\n",
      "  %reload_ext autoreload\n"
     ]
    }
   ],
   "source": [
    "# | hide\n",
    "%load_ext autoreload\n",
    "%autoreload 2"
   ]
  },
  {
   "cell_type": "code",
   "execution_count": null,
   "metadata": {},
   "outputs": [],
   "source": [
    "#| default_exp cli"
   ]
  },
  {
   "cell_type": "code",
   "execution_count": null,
   "metadata": {},
   "outputs": [],
   "source": [
    "#| hide\n",
    "from nbdev.showdoc import *"
   ]
  },
  {
   "cell_type": "code",
   "execution_count": null,
   "metadata": {},
   "outputs": [],
   "source": [
    "#| hide\n",
    "#| export \n",
    "import argparse\n",
    "import json \n",
    "from pathlib import Path\n",
    "from typing import Dict, Protocol"
   ]
  },
  {
   "cell_type": "code",
   "execution_count": null,
   "metadata": {},
   "outputs": [],
   "source": [
    "# | exporti\n",
    "from beetroot.markdown.cli import MarkdownBackendConfig"
   ]
  },
  {
   "cell_type": "code",
   "execution_count": null,
   "metadata": {},
   "outputs": [],
   "source": [
    "#| exporti\n",
    "backends_map = {\n",
    "    'markdown': MarkdownBackendConfig(),\n",
    "}"
   ]
  },
  {
   "cell_type": "code",
   "execution_count": null,
   "metadata": {},
   "outputs": [],
   "source": [
    "#| export \n",
    "def br_export():\n",
    "    parser = argparse.ArgumentParser()\n",
    "    parser.add_argument('nb_filename', type=str, help=\"Full path to the notebook to export\")\n",
    "    parser.add_argument('--backend', choices=backends_map.keys(), default='markdown', help=\"The backend to use\")\n",
    "\n",
    "    # Parse the known args, to determine what the backend is\n",
    "    args, _ = parser.parse_known_args()\n",
    "\n",
    "    # Get the backend config based on its name and use it to configure the \n",
    "    # rest of args parsing. \n",
    "    backend_config = backends_map[args.backend]\n",
    "    backend_config.configure_arg_parser(parser)\n",
    "    args = parser.parse_args()\n",
    "\n",
    "    # Load the JSON\n",
    "    nb_json = json.loads(Path(args.nb_filename).read_text())\n",
    "\n",
    "    # Run the backend\n",
    "    backend_config.run(nb_json, args)\n",
    "\n"
   ]
  },
  {
   "cell_type": "code",
   "execution_count": null,
   "metadata": {},
   "outputs": [],
   "source": [
    "#| hide\n",
    "import nbdev; nbdev.nbdev_export()"
   ]
  }
 ],
 "metadata": {
  "kernelspec": {
   "display_name": "python3",
   "language": "python",
   "name": "python3"
  }
 },
 "nbformat": 4,
 "nbformat_minor": 2
}
