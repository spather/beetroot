{
 "cells": [
  {
   "attachments": {},
   "cell_type": "markdown",
   "metadata": {},
   "source": [
    "# api\n",
    "\n",
    "> Main entrypoint api for markdown backend"
   ]
  },
  {
   "cell_type": "code",
   "execution_count": null,
   "metadata": {},
   "outputs": [
    {
     "name": "stdout",
     "output_type": "stream",
     "text": [
      "The autoreload extension is already loaded. To reload it, use:\n",
      "  %reload_ext autoreload\n"
     ]
    }
   ],
   "source": [
    "# | hide\n",
    "%load_ext autoreload\n",
    "%autoreload 2"
   ]
  },
  {
   "cell_type": "code",
   "execution_count": null,
   "metadata": {},
   "outputs": [],
   "source": [
    "#| default_exp markdown.api"
   ]
  },
  {
   "cell_type": "code",
   "execution_count": null,
   "metadata": {},
   "outputs": [],
   "source": [
    "#| hide\n",
    "from nbdev.showdoc import *"
   ]
  },
  {
   "cell_type": "code",
   "execution_count": null,
   "metadata": {},
   "outputs": [],
   "source": [
    "#| hide\n",
    "from fastcore.test import *\n",
    "from IPython.display import display, Markdown\n",
    "import json\n",
    "import os\n",
    "from pathlib import Path\n",
    "import re\n",
    "import tempfile"
   ]
  },
  {
   "cell_type": "code",
   "execution_count": null,
   "metadata": {},
   "outputs": [],
   "source": [
    "#| hide\n",
    "#| export\n",
    "import io\n",
    "from typing import Dict, Iterable, Sequence, Tuple"
   ]
  },
  {
   "cell_type": "code",
   "execution_count": null,
   "metadata": {},
   "outputs": [],
   "source": [
    "# | export\n",
    "from beetroot.api import handle_notebook\n",
    "\n",
    "from beetroot.markdown.transformations import Transformer\n",
    "from beetroot.markdown.source import (\n",
    "    MarkdownSourceHandler,\n",
    ")\n",
    "from beetroot.markdown.outputs import MarkdownOutputHandler, MarkdownCompletion"
   ]
  },
  {
   "cell_type": "code",
   "execution_count": null,
   "metadata": {},
   "outputs": [],
   "source": [
    "# | export\n",
    "def export_markdown_notebook(\n",
    "    nb_json: Dict, transformers_map: Dict[str, Transformer] = {}\n",
    ") -> Tuple[str, Iterable[MarkdownCompletion]]:\n",
    "    stream = io.StringIO()\n",
    "    source_handler = MarkdownSourceHandler(stream, transformers_map)\n",
    "    output_handler = MarkdownOutputHandler(stream, transformers_map)\n",
    "\n",
    "    completions = handle_notebook(nb_json, source_handler, output_handler)\n",
    "\n",
    "    stream.seek(0)\n",
    "    return stream.read(), completions"
   ]
  },
  {
   "cell_type": "code",
   "execution_count": null,
   "metadata": {},
   "outputs": [
    {
     "data": {
      "text/markdown": [
       "```python\n",
       "name = 'world'\n",
       "print(f\"hello, {name}\")\n",
       "```\n",
       "\n",
       "```\n",
       "hello, world\n",
       "```\n",
       "\n",
       "# This is Markdown\n",
       "This is a [link](https://www.google.com).\n",
       "This is:\n",
       "\n",
       "* a \n",
       "* bulleted\n",
       "* list\n",
       "\n",
       "Yup.\n",
       "\n",
       "```python\n",
       "# Multiline stream output\n",
       "print(\"hello, world\")\n",
       "print(\"a second line\")\n",
       "print(\"a third line\")\n",
       "```\n",
       "\n",
       "```\n",
       "hello, world\n",
       "a second line\n",
       "a third line\n",
       "```\n",
       "\n",
       "```python\n",
       "# Single line stream output with no trailing newline\n",
       "import sys\n",
       "sys.stdout.write(\"hello\")\n",
       "```\n",
       "\n",
       "```\n",
       "hello\n",
       "```\n",
       "\n",
       "```\n",
       "5\n",
       "```\n",
       "\n",
       "```python\n",
       "# Multiline stream output with no trailing newline\n",
       "print(\"hello with a newline\")\n",
       "sys.stdout.write(\"hello\")\n",
       "```\n",
       "\n",
       "```\n",
       "hello with a newline\n",
       "hello\n",
       "```\n",
       "\n",
       "```\n",
       "5\n",
       "```\n",
       "\n",
       "```\n",
       "This output should show but the source code shouldn't\n",
       "```\n",
       "\n",
       "```python\n",
       "# The source code for this cell will show but its output won't \n",
       "\n",
       "print(\"This output should not show\")\n",
       "```\n",
       "\n",
       "The cell below is intentionally left blank to test handling blank cells - do not remove it\n",
       "\n",
       "```python\n",
       "\n",
       "```\n",
       "\n",
       "The above cell was intentionally left blank to test handling blank cells - do not remove it\n",
       "\n",
       "```python\n",
       "# Test latex output\n",
       "from IPython.display import Latex\n",
       "\n",
       "Latex('$\\\\displaystyle w_{11} x_{11} + w_{12} x_{12} + w_{21} x_{21} + w_{22} x_{22}$')\n",
       "```\n",
       "\n",
       "$\\displaystyle w_{11} x_{11} + w_{12} x_{12} + w_{21} x_{21} + w_{22} x_{22}$\n",
       "\n",
       "```python\n",
       "# Test inline image\n",
       "%matplotlib inline \n",
       "from matplotlib import pyplot as plt\n",
       "from math import cos, radians, sin \n",
       "\n",
       "fig = plt.figure(figsize=(2, 1))\n",
       "ax = fig.add_subplot(1, 1, 1)\n",
       "ax.set(\n",
       "    title=\"sin(x) and cos(x)\"\n",
       ")\n",
       "xs = range(0,360)\n",
       "ax.plot(xs, [sin(radians(x)) for x in xs], label=\"sin(x)\")\n",
       "ax.plot(xs, [cos(radians(x)) for x in xs], label=\"cos(x)\")\n",
       "_ = ax.legend()\n",
       "```\n",
       "\n",
       "![](images/c9d82328-fb85-4a0d-a724-25ea0434dcde.png)\n",
       "```python\n",
       "\n",
       "```\n",
       "\n"
      ],
      "text/plain": [
       "<IPython.core.display.Markdown object>"
      ]
     },
     "metadata": {},
     "output_type": "display_data"
    }
   ],
   "source": [
    "# Form the path to the testcase notebook\n",
    "nbpath = os.path.dirname(os.path.realpath('__file__')) # Get path to this notebook\n",
    "test_nb_path = Path(nbpath) / '../../test_artifacts' / 'testcase_notebook.ipynb'\n",
    "\n",
    "# Load the testcase notebook as JSON\n",
    "nb_json = json.loads(test_nb_path.read_text())\n",
    "\n",
    "# Call export, get the text and the completion\n",
    "md_text, completions = export_markdown_notebook(nb_json)\n",
    "\n",
    "# Create a temporary directory we'll use for running the completion\n",
    "with tempfile.TemporaryDirectory() as tmpdir:\n",
    "    tmp_path = Path(tmpdir)\n",
    "    for completion in completions:\n",
    "        completion(tmp_path)\n",
    "        \n",
    "    filename = None \n",
    "    with open(tmp_path / 'markdown.md', 'w') as md_file:\n",
    "        md_file.write(md_text)\n",
    "        filename = md_file.name \n",
    "\n",
    "    # Images won't render because their paths are relative to the markdown file,\n",
    "    # not this notebook. That's unfortunate but I've decided to live with it. \n",
    "    # The solution would be to temporarily copy images from the output directory\n",
    "    # to a local images/ directory here. But that seems brittle so I'm not doing\n",
    "    # it for now. \n",
    "    display(Markdown(filename=filename))"
   ]
  },
  {
   "cell_type": "code",
   "execution_count": null,
   "metadata": {},
   "outputs": [
    {
     "data": {
      "text/markdown": [
       "This is some markdown in which I will replace the dollar signs in the following inline expression: \\\\(a + b\\\\).\n",
       "\n",
       "```python\n",
       "from IPython.display import Markdown, Latex\n",
       "```\n",
       "\n",
       "```python\n",
       "Markdown('This is output markdown in which I will replace the dollar signs in the following inline expression: $a + b$.')\n",
       "```\n",
       "\n",
       "This is output markdown in which I will replace the dollar signs in the following inline expression: \\\\(a + b\\\\).\n",
       "\n",
       "```python\n",
       "Latex('$\\\\displaystyle w_{11} x_{11} + w_{12} x_{12} + w_{21} x_{21} + w_{22} x_{22}$')\n",
       "```\n",
       "\n",
       "\\\\(\\displaystyle w_{11} x_{11} + w_{12} x_{12} + w_{21} x_{21} + w_{22} x_{22}\\\\)\n",
       "\n"
      ],
      "text/plain": [
       "<IPython.core.display.Markdown object>"
      ]
     },
     "execution_count": null,
     "metadata": {},
     "output_type": "execute_result"
    }
   ],
   "source": [
    "# Form the path to the testcase notebook\n",
    "nbpath = os.path.dirname(os.path.realpath('__file__'))  # Get path to this notebook\n",
    "test_nb_path = (\n",
    "    Path(nbpath) / '../../test_artifacts' / 'transformations_testcases.ipynb'\n",
    ")\n",
    "\n",
    "# Load the testcase notebook as JSON\n",
    "nb_json = json.loads(test_nb_path.read_text())\n",
    "\n",
    "\n",
    "class ReplaceDollarSigns(Transformer):\n",
    "    def process_lines(self, lines: Sequence[str]) -> Sequence[str]:\n",
    "        regex = r\"\\$(?!\\$)(.*?[^\\\\])\\$\"\n",
    "        replacement = r\"\\\\\\\\(\\1\\\\\\\\)\"\n",
    "\n",
    "        return [re.sub(regex, replacement, line) for line in lines]\n",
    "\n",
    "\n",
    "# Call export, get the text and the completion\n",
    "replace_dollar_signs = ReplaceDollarSigns()\n",
    "md_text, _ = export_markdown_notebook(\n",
    "    nb_json, transformers_map={\n",
    "        'markdown/source': replace_dollar_signs,\n",
    "        'text/markdown/data/output': replace_dollar_signs,\n",
    "        'text/latex/data/output': replace_dollar_signs,\n",
    "    }\n",
    ")\n",
    "\n",
    "Markdown(md_text)"
   ]
  },
  {
   "cell_type": "code",
   "execution_count": null,
   "metadata": {},
   "outputs": [],
   "source": [
    "#| hide\n",
    "import nbdev; nbdev.nbdev_export()"
   ]
  }
 ],
 "metadata": {
  "kernelspec": {
   "display_name": "python3",
   "language": "python",
   "name": "python3"
  }
 },
 "nbformat": 4,
 "nbformat_minor": 2
}
