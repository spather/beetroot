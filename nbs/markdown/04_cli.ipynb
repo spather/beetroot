{
 "cells": [
  {
   "attachments": {},
   "cell_type": "markdown",
   "metadata": {},
   "source": [
    "# cli\n",
    "\n",
    "> Functions that implement the cli for the beetroot markdown backend"
   ]
  },
  {
   "cell_type": "code",
   "execution_count": null,
   "metadata": {},
   "outputs": [],
   "source": [
    "# | hide\n",
    "%load_ext autoreload\n",
    "%autoreload 2"
   ]
  },
  {
   "cell_type": "code",
   "execution_count": null,
   "metadata": {},
   "outputs": [],
   "source": [
    "#| default_exp markdown.cli"
   ]
  },
  {
   "cell_type": "code",
   "execution_count": null,
   "metadata": {},
   "outputs": [],
   "source": [
    "#| hide\n",
    "from nbdev.showdoc import *"
   ]
  },
  {
   "cell_type": "code",
   "execution_count": null,
   "metadata": {},
   "outputs": [],
   "source": [
    "#| hide\n",
    "#| export \n",
    "import argparse\n",
    "import json \n",
    "from pathlib import Path\n"
   ]
  },
  {
   "cell_type": "code",
   "execution_count": null,
   "metadata": {},
   "outputs": [],
   "source": [
    "#| export\n",
    "from beetroot.markdown.api import export_markdown_notebook"
   ]
  },
  {
   "cell_type": "code",
   "execution_count": null,
   "metadata": {},
   "outputs": [],
   "source": [
    "#| export \n",
    "def br_export():\n",
    "    parser = argparse.ArgumentParser()\n",
    "    parser.add_argument('nb_filename', type=str, help=\"Full path to the notebook to export\")\n",
    "    parser.add_argument('output_dir', type=str, help=\"Output directory for the markdown and associated files\")\n",
    "    args = parser.parse_args()\n",
    "\n",
    "    nb_path = Path(args.nb_filename)\n",
    "\n",
    "    output_path = Path(args.output_dir)\n",
    "    nb_json = json.loads(Path(args.nb_filename).read_text())\n",
    "    markdown, completions = export_markdown_notebook(nb_json)\n",
    "\n",
    "    # Run the completion\n",
    "    for completion in completions:\n",
    "        completion(output_path)\n",
    "\n",
    "    # Write the markdown to an output file\n",
    "    md_filename = output_path / nb_path.with_suffix('.md').name\n",
    "    with open(md_filename, 'w') as md_file:\n",
    "        md_file.write(markdown)"
   ]
  },
  {
   "cell_type": "code",
   "execution_count": null,
   "metadata": {},
   "outputs": [],
   "source": [
    "#| hide\n",
    "import nbdev; nbdev.nbdev_export()"
   ]
  }
 ],
 "metadata": {
  "kernelspec": {
   "display_name": "python3",
   "language": "python",
   "name": "python3"
  }
 },
 "nbformat": 4,
 "nbformat_minor": 2
}
