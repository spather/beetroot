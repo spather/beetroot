{
 "cells": [
  {
   "attachments": {},
   "cell_type": "markdown",
   "metadata": {},
   "source": [
    "# transformations\n",
    "\n",
    "> Classes and functions that deal with transforming text during notebook export"
   ]
  },
  {
   "cell_type": "code",
   "execution_count": null,
   "metadata": {},
   "outputs": [],
   "source": [
    "# | hide\n",
    "%load_ext autoreload\n",
    "%autoreload 2"
   ]
  },
  {
   "cell_type": "code",
   "execution_count": null,
   "metadata": {},
   "outputs": [],
   "source": [
    "#| default_exp markdown.transformations"
   ]
  },
  {
   "cell_type": "code",
   "execution_count": null,
   "metadata": {},
   "outputs": [],
   "source": [
    "#| hide\n",
    "from nbdev.showdoc import *"
   ]
  },
  {
   "cell_type": "code",
   "execution_count": null,
   "metadata": {},
   "outputs": [],
   "source": [
    "#| hide\n",
    "from fastcore.test import *"
   ]
  },
  {
   "cell_type": "code",
   "execution_count": null,
   "metadata": {},
   "outputs": [],
   "source": [
    "#| hide\n",
    "#| export\n",
    "import io\n",
    "import re\n",
    "from typing import Callable, Iterable, Sequence"
   ]
  },
  {
   "cell_type": "code",
   "execution_count": null,
   "metadata": {},
   "outputs": [],
   "source": [
    "# | export\n",
    "\n",
    "\n",
    "class Transformer:\n",
    "    \"\"\"Base class for all content transformers.\"\"\"\n",
    "\n",
    "    def emit_before(self, stream: io.TextIOBase):\n",
    "        \"\"\"Implement this method on sub-classes to emit markdown \\\n",
    "            before the set of lines this transformer processes.\"\"\"\n",
    "        return\n",
    "\n",
    "    def process_lines(self, lines: Sequence[str]) -> Sequence[str]:\n",
    "        \"\"\"Implement this method on sub-classes to modify the lines \\\n",
    "            this transformer processes.\"\"\"\n",
    "        return lines\n",
    "\n",
    "    def emit_after(self, stream: io.TextIOBase):\n",
    "        \"\"\"Implement this method on sub-classes to emit markdown \\\n",
    "            after the set of lines this transformer processes.\"\"\"\n",
    "        return"
   ]
  },
  {
   "cell_type": "code",
   "execution_count": null,
   "metadata": {},
   "outputs": [
    {
     "data": {
      "text/markdown": [
       "---\n",
       "\n",
       "[source](https://github.com/spather/beetroot/blob/main/beetroot/markdown/transformations.py#L14){target=\"_blank\" style=\"float:right; font-size:smaller\"}\n",
       "\n",
       "### Transformer.emit_before\n",
       "\n",
       ">      Transformer.emit_before (stream:io.TextIOBase)\n",
       "\n",
       "Implement this method on sub-classes to emit markdown             before the set of lines this transformer processes."
      ],
      "text/plain": [
       "---\n",
       "\n",
       "[source](https://github.com/spather/beetroot/blob/main/beetroot/markdown/transformations.py#L14){target=\"_blank\" style=\"float:right; font-size:smaller\"}\n",
       "\n",
       "### Transformer.emit_before\n",
       "\n",
       ">      Transformer.emit_before (stream:io.TextIOBase)\n",
       "\n",
       "Implement this method on sub-classes to emit markdown             before the set of lines this transformer processes."
      ]
     },
     "execution_count": null,
     "metadata": {},
     "output_type": "execute_result"
    }
   ],
   "source": [
    "show_doc(Transformer.emit_before)"
   ]
  },
  {
   "cell_type": "code",
   "execution_count": null,
   "metadata": {},
   "outputs": [
    {
     "data": {
      "text/markdown": [
       "---\n",
       "\n",
       "[source](https://github.com/spather/beetroot/blob/main/beetroot/markdown/transformations.py#L19){target=\"_blank\" style=\"float:right; font-size:smaller\"}\n",
       "\n",
       "### Transformer.process_lines\n",
       "\n",
       ">      Transformer.process_lines (lines:Sequence[str])\n",
       "\n",
       "Implement this method on sub-classes to modify the lines             this transformer processes."
      ],
      "text/plain": [
       "---\n",
       "\n",
       "[source](https://github.com/spather/beetroot/blob/main/beetroot/markdown/transformations.py#L19){target=\"_blank\" style=\"float:right; font-size:smaller\"}\n",
       "\n",
       "### Transformer.process_lines\n",
       "\n",
       ">      Transformer.process_lines (lines:Sequence[str])\n",
       "\n",
       "Implement this method on sub-classes to modify the lines             this transformer processes."
      ]
     },
     "execution_count": null,
     "metadata": {},
     "output_type": "execute_result"
    }
   ],
   "source": [
    "show_doc(Transformer.process_lines)"
   ]
  },
  {
   "cell_type": "code",
   "execution_count": null,
   "metadata": {},
   "outputs": [
    {
     "data": {
      "text/markdown": [
       "---\n",
       "\n",
       "[source](https://github.com/spather/beetroot/blob/main/beetroot/markdown/transformations.py#L24){target=\"_blank\" style=\"float:right; font-size:smaller\"}\n",
       "\n",
       "### Transformer.emit_after\n",
       "\n",
       ">      Transformer.emit_after (stream:io.TextIOBase)\n",
       "\n",
       "Implement this method on sub-classes to emit markdown             after the set of lines this transformer processes."
      ],
      "text/plain": [
       "---\n",
       "\n",
       "[source](https://github.com/spather/beetroot/blob/main/beetroot/markdown/transformations.py#L24){target=\"_blank\" style=\"float:right; font-size:smaller\"}\n",
       "\n",
       "### Transformer.emit_after\n",
       "\n",
       ">      Transformer.emit_after (stream:io.TextIOBase)\n",
       "\n",
       "Implement this method on sub-classes to emit markdown             after the set of lines this transformer processes."
      ]
     },
     "execution_count": null,
     "metadata": {},
     "output_type": "execute_result"
    }
   ],
   "source": [
    "show_doc(Transformer.emit_after)"
   ]
  },
  {
   "cell_type": "code",
   "execution_count": null,
   "metadata": {},
   "outputs": [],
   "source": [
    "# | export\n",
    "class MultiTransformer:\n",
    "    def __init__(self, transformers: Iterable[Transformer]):\n",
    "        # Store the passed in transformers as a list \n",
    "        # so that we can later call reverse() on it.\n",
    "        self.transformers = list(transformers)\n",
    "\n",
    "    def emit_before(self, stream: io.TextIOBase):\n",
    "        # Emit all the before output from the transformers.\n",
    "        # Do it in reversed order so that the first transformer's\n",
    "        # before output appears closest to the (transformed) lines\n",
    "        for transformer in reversed(self.transformers):\n",
    "            transformer.emit_before(stream)\n",
    "\n",
    "    def process_lines(self, lines: Sequence[str]) -> Sequence[str]:\n",
    "        # Pass the source lines through all the transformers\n",
    "        for transformer in self.transformers:\n",
    "            lines = transformer.process_lines(lines)\n",
    "        return lines\n",
    "\n",
    "    def emit_after(self, stream: io.TextIOBase):\n",
    "        # Emit the after output from the transformers\n",
    "        for transformer in self.transformers:\n",
    "            transformer.emit_after(stream)"
   ]
  },
  {
   "cell_type": "code",
   "execution_count": null,
   "metadata": {},
   "outputs": [],
   "source": [
    "# | export\n",
    "\n",
    "def emit_with_transformation(\n",
    "    transformer: Transformer,\n",
    "    lines: Sequence[str],\n",
    "    emit_lines_func: Callable[[Sequence[str], io.TextIOBase], None],\n",
    "    stream: io.TextIOBase,\n",
    "):\n",
    "    transformer.emit_before(stream)\n",
    "\n",
    "    emit_lines_func(transformer.process_lines(lines), stream)\n",
    "\n",
    "    transformer.emit_after(stream)\n"
   ]
  },
  {
   "cell_type": "code",
   "execution_count": null,
   "metadata": {},
   "outputs": [],
   "source": [
    "# Tests for emit_with_transformations()\n",
    "class TransformerA(Transformer):\n",
    "    def emit_before(self, stream: io.TextIOBase):\n",
    "        stream.write('before A\\n')\n",
    "\n",
    "    def process_lines(self, lines: Sequence[str]) -> Sequence[str]:\n",
    "        return [\n",
    "            line.replace('a', 'A')\n",
    "            for line in lines \n",
    "        ]\n",
    "\n",
    "    def emit_after(self, stream: io.TextIOBase):\n",
    "        stream.write('after A\\n')\n",
    "\n",
    "class TransformerB(Transformer):\n",
    "    def emit_before(self, stream: io.TextIOBase):\n",
    "        stream.write('before B\\n')\n",
    "\n",
    "    def process_lines(self, lines: Sequence[str]) -> Sequence[str]:\n",
    "        return [\n",
    "            line.replace('b', 'B')\n",
    "            for line in lines \n",
    "        ]\n",
    "\n",
    "    def emit_after(self, stream: io.TextIOBase):\n",
    "        stream.write('after B\\n')\n",
    "\n",
    "def dummy_emit_lines(lines: Sequence[str], stream: io.TextIOBase):\n",
    "    for line in lines:\n",
    "        stream.write(line)\n",
    "\n",
    "lines = [\n",
    "    'abCDefab\\n',\n",
    "    'ghiAbajkl\\n'\n",
    "    'mnoAAAAAABBBBBp\\n'\n",
    "]\n",
    "\n",
    "stream = io.StringIO()\n",
    "\n",
    "emit_with_transformation(\n",
    "    transformer=MultiTransformer([TransformerA(), TransformerB()]),\n",
    "    lines=lines,\n",
    "    emit_lines_func=dummy_emit_lines,\n",
    "    stream=stream\n",
    ")\n",
    "\n",
    "stream.seek(0)\n",
    "output = stream.read()\n",
    "\n",
    "expected = \"\"\"\\\n",
    "before B\n",
    "before A\n",
    "ABCDefAB\n",
    "ghiABAjkl\n",
    "mnoAAAAAABBBBBp\n",
    "after A\n",
    "after B\n",
    "\"\"\"\n",
    "\n",
    "test_eq(output, expected)"
   ]
  },
  {
   "cell_type": "code",
   "execution_count": null,
   "metadata": {},
   "outputs": [],
   "source": [
    "# | export\n",
    "class ReplaceSingleDollarDelimiters(Transformer):\n",
    "    \"\"\"Transformer that replaces $ delimiters in inline latex\\\n",
    "        with \\\\\\\\( and \\\\\\\\).\"\"\"\n",
    "    def process_lines(self, lines: Sequence[str]) -> Sequence[str]:\n",
    "        regex = r\"(?<!\\$)\\$(?!\\$)(.*?[^\\\\])\\$(?!\\$)(?!\\w)\"\n",
    "        replacement = r\"\\\\\\\\(\\1\\\\\\\\)\"\n",
    "\n",
    "        return [re.sub(regex, replacement, line) for line in lines]"
   ]
  },
  {
   "cell_type": "code",
   "execution_count": null,
   "metadata": {},
   "outputs": [],
   "source": [
    "# Test ReplaceSingleDollarDelimiters\n",
    "\n",
    "input = [\n",
    "    'This is an expression in which the delimiters will be replaced: $a + b$\\n',\n",
    "    'These block delimiters should not be replaced: $$a + b$$\\n'\n",
    "]\n",
    "\n",
    "output = ReplaceSingleDollarDelimiters().process_lines(input)\n",
    "\n",
    "expected = [\n",
    "    r'This is an expression in which the delimiters will be replaced: \\\\(a + b\\\\)''\\n',\n",
    "    'These block delimiters should not be replaced: $$a + b$$\\n'\n",
    "]\n",
    "\n",
    "test_eq(output, expected)\n"
   ]
  },
  {
   "cell_type": "code",
   "execution_count": null,
   "metadata": {},
   "outputs": [],
   "source": [
    "#| hide\n",
    "import nbdev; nbdev.nbdev_export()"
   ]
  }
 ],
 "metadata": {
  "kernelspec": {
   "display_name": "python3",
   "language": "python",
   "name": "python3"
  }
 },
 "nbformat": 4,
 "nbformat_minor": 2
}
