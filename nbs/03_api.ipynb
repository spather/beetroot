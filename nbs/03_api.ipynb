{
 "cells": [
  {
   "attachments": {},
   "cell_type": "markdown",
   "metadata": {},
   "source": [
    "# api\n",
    "\n",
    "> Main entrypoint api for beetroot"
   ]
  },
  {
   "cell_type": "code",
   "execution_count": null,
   "metadata": {},
   "outputs": [
    {
     "name": "stdout",
     "output_type": "stream",
     "text": [
      "The autoreload extension is already loaded. To reload it, use:\n",
      "  %reload_ext autoreload\n"
     ]
    }
   ],
   "source": [
    "%load_ext autoreload\n",
    "%autoreload 2"
   ]
  },
  {
   "cell_type": "code",
   "execution_count": null,
   "metadata": {},
   "outputs": [],
   "source": [
    "#| default_exp api"
   ]
  },
  {
   "cell_type": "code",
   "execution_count": null,
   "metadata": {},
   "outputs": [],
   "source": [
    "#| hide\n",
    "from nbdev.showdoc import *"
   ]
  },
  {
   "cell_type": "code",
   "execution_count": null,
   "metadata": {},
   "outputs": [],
   "source": [
    "#| hide\n",
    "from fastcore.test import *\n",
    "from IPython.display import display, Markdown\n",
    "import json\n",
    "import os\n",
    "from pathlib import Path\n",
    "import re\n",
    "import tempfile\n"
   ]
  },
  {
   "cell_type": "code",
   "execution_count": null,
   "metadata": {},
   "outputs": [],
   "source": [
    "#| hide\n",
    "#| export\n",
    "import io\n",
    "from typing import Callable, Dict, Iterable, Reversible, Sequence, Tuple"
   ]
  },
  {
   "cell_type": "code",
   "execution_count": null,
   "metadata": {},
   "outputs": [],
   "source": [
    "# | export\n",
    "from beetroot.source import (\n",
    "    emit_markdown_source,\n",
    "    emit_python_source,\n",
    "    parse_and_extract_directives_from_python_source,\n",
    ")\n",
    "from beetroot.outputs import (\n",
    "    Completion,\n",
    "    emit_display_data_output,\n",
    "    emit_execute_result_output,\n",
    "    emit_stream_output,\n",
    ")"
   ]
  },
  {
   "cell_type": "code",
   "execution_count": null,
   "metadata": {},
   "outputs": [],
   "source": [
    "# | export\n",
    "\n",
    "\n",
    "class Transformer:\n",
    "    \"\"\"Base class for all content transformers.\"\"\"\n",
    "\n",
    "    def emit_before(self, stream: io.TextIOBase):\n",
    "        \"\"\"Implement this method on sub-classes to emit markdown \\\n",
    "            before the set of lines this transformer processes.\"\"\"\n",
    "        return\n",
    "\n",
    "    def process_lines(self, lines: Sequence[str]) -> Sequence[str]:\n",
    "        \"\"\"Implement this method on sub-classes to modify the lines \\\n",
    "            this transformer processes.\"\"\"\n",
    "        return lines\n",
    "\n",
    "    def emit_after(self, stream: io.TextIOBase):\n",
    "        \"\"\"Implement this method on sub-classes to emit markdown \\\n",
    "            after the set of lines this transformer processes.\"\"\"\n",
    "        return"
   ]
  },
  {
   "cell_type": "code",
   "execution_count": null,
   "metadata": {},
   "outputs": [
    {
     "data": {
      "text/markdown": [
       "---\n",
       "\n",
       "[source](https://github.com/spather/beetroot/blob/main/beetroot/api.py#L21){target=\"_blank\" style=\"float:right; font-size:smaller\"}\n",
       "\n",
       "### Transformer.emit_before\n",
       "\n",
       ">      Transformer.emit_before (stream:io.TextIOBase)\n",
       "\n",
       "Implement this method on sub-classes to emit markdown             before the set of lines this transformer processes."
      ],
      "text/plain": [
       "---\n",
       "\n",
       "[source](https://github.com/spather/beetroot/blob/main/beetroot/api.py#L21){target=\"_blank\" style=\"float:right; font-size:smaller\"}\n",
       "\n",
       "### Transformer.emit_before\n",
       "\n",
       ">      Transformer.emit_before (stream:io.TextIOBase)\n",
       "\n",
       "Implement this method on sub-classes to emit markdown             before the set of lines this transformer processes."
      ]
     },
     "execution_count": null,
     "metadata": {},
     "output_type": "execute_result"
    }
   ],
   "source": [
    "show_doc(Transformer.emit_before)"
   ]
  },
  {
   "cell_type": "code",
   "execution_count": null,
   "metadata": {},
   "outputs": [
    {
     "data": {
      "text/markdown": [
       "---\n",
       "\n",
       "[source](https://github.com/spather/beetroot/blob/main/beetroot/api.py#L24){target=\"_blank\" style=\"float:right; font-size:smaller\"}\n",
       "\n",
       "### Transformer.process_lines\n",
       "\n",
       ">      Transformer.process_lines (lines:Sequence[str])\n",
       "\n",
       "Implement this method on sub-classes to modify the lines             this transformer processes."
      ],
      "text/plain": [
       "---\n",
       "\n",
       "[source](https://github.com/spather/beetroot/blob/main/beetroot/api.py#L24){target=\"_blank\" style=\"float:right; font-size:smaller\"}\n",
       "\n",
       "### Transformer.process_lines\n",
       "\n",
       ">      Transformer.process_lines (lines:Sequence[str])\n",
       "\n",
       "Implement this method on sub-classes to modify the lines             this transformer processes."
      ]
     },
     "execution_count": null,
     "metadata": {},
     "output_type": "execute_result"
    }
   ],
   "source": [
    "show_doc(Transformer.process_lines)"
   ]
  },
  {
   "cell_type": "code",
   "execution_count": null,
   "metadata": {},
   "outputs": [
    {
     "data": {
      "text/markdown": [
       "---\n",
       "\n",
       "[source](https://github.com/spather/beetroot/blob/main/beetroot/api.py#L27){target=\"_blank\" style=\"float:right; font-size:smaller\"}\n",
       "\n",
       "### Transformer.emit_after\n",
       "\n",
       ">      Transformer.emit_after (stream:io.TextIOBase)\n",
       "\n",
       "Implement this method on sub-classes to emit markdown             after the set of lines this transformer processes."
      ],
      "text/plain": [
       "---\n",
       "\n",
       "[source](https://github.com/spather/beetroot/blob/main/beetroot/api.py#L27){target=\"_blank\" style=\"float:right; font-size:smaller\"}\n",
       "\n",
       "### Transformer.emit_after\n",
       "\n",
       ">      Transformer.emit_after (stream:io.TextIOBase)\n",
       "\n",
       "Implement this method on sub-classes to emit markdown             after the set of lines this transformer processes."
      ]
     },
     "execution_count": null,
     "metadata": {},
     "output_type": "execute_result"
    }
   ],
   "source": [
    "show_doc(Transformer.emit_after)"
   ]
  },
  {
   "cell_type": "code",
   "execution_count": null,
   "metadata": {},
   "outputs": [],
   "source": [
    "# | exporti\n",
    "\n",
    "def emit_with_transformations(\n",
    "    transformers: Reversible[Transformer],\n",
    "    lines: Sequence[str],\n",
    "    emit_lines_func: Callable[[Sequence[str], io.TextIOBase], None],\n",
    "    stream: io.TextIOBase,\n",
    "):\n",
    "    # Emit all the before output from the transformers.\n",
    "    # Do it in reversed order so that the first transformer's \n",
    "    # before output appears closest to the (transformed) lines\n",
    "    for transformer in reversed(transformers):\n",
    "        transformer.emit_before(stream)\n",
    "\n",
    "    # Pass the source lines through all the transformers\n",
    "    for transformer in transformers:\n",
    "        lines = transformer.process_lines(lines)\n",
    "\n",
    "    # Emit the now transformed lines\n",
    "    emit_lines_func(lines, stream)\n",
    "\n",
    "    # Emit the after output from the transformers\n",
    "    for transformer in transformers:\n",
    "        transformer.emit_after(stream)\n"
   ]
  },
  {
   "cell_type": "code",
   "execution_count": null,
   "metadata": {},
   "outputs": [],
   "source": [
    "# | hide\n",
    "# Tests for emit_with_transformations()\n",
    "class TransformerA(Transformer):\n",
    "    def emit_before(self, stream: io.TextIOBase):\n",
    "        stream.write('before A\\n')\n",
    "\n",
    "    def process_lines(self, lines: Sequence[str]) -> Sequence[str]:\n",
    "        return [\n",
    "            line.replace('a', 'A')\n",
    "            for line in lines \n",
    "        ]\n",
    "\n",
    "    def emit_after(self, stream: io.TextIOBase):\n",
    "        stream.write('after A\\n')\n",
    "\n",
    "class TransformerB(Transformer):\n",
    "    def emit_before(self, stream: io.TextIOBase):\n",
    "        stream.write('before B\\n')\n",
    "\n",
    "    def process_lines(self, lines: Sequence[str]) -> Sequence[str]:\n",
    "        return [\n",
    "            line.replace('b', 'B')\n",
    "            for line in lines \n",
    "        ]\n",
    "\n",
    "    def emit_after(self, stream: io.TextIOBase):\n",
    "        stream.write('after B\\n')\n",
    "\n",
    "def dummy_emit_lines(lines: Sequence[str], stream: io.TextIOBase):\n",
    "    for line in lines:\n",
    "        stream.write(line)\n",
    "\n",
    "lines = [\n",
    "    'abCDefab\\n',\n",
    "    'ghiAbajkl\\n'\n",
    "    'mnoAAAAAABBBBBp\\n'\n",
    "]\n",
    "\n",
    "stream = io.StringIO()\n",
    "\n",
    "emit_with_transformations(\n",
    "    transformers=[TransformerA(), TransformerB()],\n",
    "    lines=lines,\n",
    "    emit_lines_func=dummy_emit_lines,\n",
    "    stream=stream\n",
    ")\n",
    "\n",
    "stream.seek(0)\n",
    "output = stream.read()\n",
    "\n",
    "expected = \"\"\"\\\n",
    "before B\n",
    "before A\n",
    "ABCDefAB\n",
    "ghiABAjkl\n",
    "mnoAAAAAABBBBBp\n",
    "after A\n",
    "after B\n",
    "\"\"\"\n",
    "\n",
    "test_eq(output, expected)"
   ]
  },
  {
   "cell_type": "code",
   "execution_count": null,
   "metadata": {},
   "outputs": [],
   "source": [
    "# | export\n",
    "def export_notebook(\n",
    "    nb_json: Dict, transformers_map: Dict[str, Reversible[Transformer]] = {}\n",
    ") -> Tuple[str, Iterable[Completion]]:\n",
    "    stream = io.StringIO()\n",
    "    completions = []\n",
    "    for cell in nb_json['cells']:\n",
    "        if cell['cell_type'] == 'markdown':\n",
    "            emit_with_transformations(\n",
    "                transformers_map.get('markdown/source', []),\n",
    "                cell['source'],\n",
    "                emit_markdown_source,\n",
    "                stream,\n",
    "            )\n",
    "            stream.write('\\n')\n",
    "        elif cell['cell_type'] == 'code':\n",
    "            python_source, directives = parse_and_extract_directives_from_python_source(\n",
    "                cell['source']\n",
    "            )\n",
    "\n",
    "            # Handle directives per https://quarto.org/docs/reference/cells/cells-jupyter.html#code-output\n",
    "            # and https://quarto.org/docs/reference/cells/cells-jupyter.html#cell-output.\n",
    "            should_echo = 'echo' not in directives or directives['echo']\n",
    "            should_show_output = 'output' not in directives or directives['output']\n",
    "\n",
    "            if should_echo:\n",
    "                emit_python_source(python_source, stream)\n",
    "                stream.write('\\n')\n",
    "\n",
    "            if not should_show_output:\n",
    "                continue\n",
    "\n",
    "            for output in cell['outputs']:\n",
    "                output_type = output['output_type']\n",
    "                if output_type == 'stream':\n",
    "                    emit_stream_output(output, stream)\n",
    "                elif output_type == 'display_data':\n",
    "                    completion = emit_display_data_output(output, stream)\n",
    "                    if completion:\n",
    "                        completions.append(completion)\n",
    "                elif output_type == 'execute_result':\n",
    "                    completion = emit_execute_result_output(output, stream)\n",
    "                    if completion:\n",
    "                        completions.append(completion)\n",
    "                stream.write('\\n')\n",
    "\n",
    "    stream.seek(0)\n",
    "    return stream.read(), completions"
   ]
  },
  {
   "cell_type": "code",
   "execution_count": null,
   "metadata": {},
   "outputs": [
    {
     "data": {
      "text/markdown": [
       "```python\n",
       "name = 'world'\n",
       "print(f\"hello, {name}\")\n",
       "```\n",
       "\n",
       "\n",
       "```\n",
       "hello, world\n",
       "```\n",
       "\n",
       "# This is Markdown\n",
       "This is a [link](https://www.google.com).\n",
       "This is:\n",
       "\n",
       "* a \n",
       "* bulleted\n",
       "* list\n",
       "\n",
       "Yup.\n",
       "\n",
       "```python\n",
       "# Multiline stream output\n",
       "print(\"hello, world\")\n",
       "print(\"a second line\")\n",
       "print(\"a third line\")\n",
       "```\n",
       "\n",
       "\n",
       "```\n",
       "hello, world\n",
       "a second line\n",
       "a third line\n",
       "```\n",
       "\n",
       "```python\n",
       "# Single line stream output with no trailing newline\n",
       "import sys\n",
       "sys.stdout.write(\"hello\")\n",
       "```\n",
       "\n",
       "\n",
       "```\n",
       "hello\n",
       "```\n",
       "\n",
       "```\n",
       "5\n",
       "```\n",
       "\n",
       "```python\n",
       "# Multiline stream output with no trailing newline\n",
       "print(\"hello with a newline\")\n",
       "sys.stdout.write(\"hello\")\n",
       "```\n",
       "\n",
       "\n",
       "```\n",
       "hello with a newline\n",
       "hello\n",
       "```\n",
       "\n",
       "```\n",
       "5\n",
       "```\n",
       "\n",
       "```\n",
       "This output should show but the source code shouldn't\n",
       "```\n",
       "\n",
       "```python\n",
       "# The source code for this cell will show but its output won't \n",
       "\n",
       "print(\"This output should not show\")\n",
       "```\n",
       "\n",
       "\n",
       "The cell below is intentionally left blank to test handling blank cells - do not remove it\n",
       "\n",
       "```python\n",
       "\n",
       "```\n",
       "\n",
       "\n",
       "The above cell was intentionally left blank to test handling blank cells - do not remove it\n",
       "\n",
       "```python\n",
       "# Test latex output\n",
       "from IPython.display import Latex\n",
       "\n",
       "Latex('$\\\\displaystyle w_{11} x_{11} + w_{12} x_{12} + w_{21} x_{21} + w_{22} x_{22}$')\n",
       "```\n",
       "\n",
       "\n",
       "$\\displaystyle w_{11} x_{11} + w_{12} x_{12} + w_{21} x_{21} + w_{22} x_{22}$\n",
       "\n",
       "```python\n",
       "# Test inline image\n",
       "%matplotlib inline \n",
       "from matplotlib import pyplot as plt\n",
       "from math import cos, radians, sin \n",
       "\n",
       "fig = plt.figure(figsize=(2, 1))\n",
       "ax = fig.add_subplot(1, 1, 1)\n",
       "ax.set(\n",
       "    title=\"sin(x) and cos(x)\"\n",
       ")\n",
       "xs = range(0,360)\n",
       "ax.plot(xs, [sin(radians(x)) for x in xs], label=\"sin(x)\")\n",
       "ax.plot(xs, [cos(radians(x)) for x in xs], label=\"cos(x)\")\n",
       "_ = ax.legend()\n",
       "```\n",
       "\n",
       "\n",
       "![](images/4256d82d-45e8-4a8b-a05e-d650cdcc49ce.png)\n",
       "```python\n",
       "\n",
       "```\n",
       "\n",
       "\n"
      ],
      "text/plain": [
       "<IPython.core.display.Markdown object>"
      ]
     },
     "metadata": {},
     "output_type": "display_data"
    }
   ],
   "source": [
    "# Form the path to the testcase notebook\n",
    "nbpath = os.path.dirname(os.path.realpath('__file__')) # Get path to this notebook\n",
    "test_nb_path = Path(nbpath) / '../test_artifacts' / 'testcase_notebook.ipynb'\n",
    "\n",
    "# Load the testcase notebook as JSON\n",
    "nb_json = json.loads(test_nb_path.read_text())\n",
    "\n",
    "# Call export, get the text and the completions\n",
    "md_text, completions = export_notebook(nb_json)\n",
    "\n",
    "# Create a temporary directory we'll use for running the completions\n",
    "with tempfile.TemporaryDirectory() as tmpdir:\n",
    "    tmp_path = Path(tmpdir)\n",
    "    for completion in completions:\n",
    "        completion(tmp_path)\n",
    "        \n",
    "    filename = None \n",
    "    with open(tmp_path / 'markdown.md', 'w') as md_file:\n",
    "        md_file.write(md_text)\n",
    "        filename = md_file.name \n",
    "\n",
    "    # Images won't render because their paths are relative to the markdown file,\n",
    "    # not this notebook. That's unfortunate but I've decided to live with it. \n",
    "    # The solution would be to temporarily copy images from the output directory\n",
    "    # to a local images/ directory here. But that seems brittle so I'm not doing\n",
    "    # it for now. \n",
    "    display(Markdown(filename=filename))"
   ]
  },
  {
   "cell_type": "code",
   "execution_count": null,
   "metadata": {},
   "outputs": [
    {
     "data": {
      "text/markdown": [
       "This is some markdown in which I will replace the dollar signs in the following inline expression: \\\\(a + b\\\\).\n",
       "\n"
      ],
      "text/plain": [
       "<IPython.core.display.Markdown object>"
      ]
     },
     "execution_count": null,
     "metadata": {},
     "output_type": "execute_result"
    }
   ],
   "source": [
    "# Form the path to the testcase notebook\n",
    "nbpath = os.path.dirname(os.path.realpath('__file__'))  # Get path to this notebook\n",
    "test_nb_path = (\n",
    "    Path(nbpath) / '../test_artifacts' / 'transformations_testcases.ipynb'\n",
    ")\n",
    "\n",
    "# Load the testcase notebook as JSON\n",
    "nb_json = json.loads(test_nb_path.read_text())\n",
    "\n",
    "\n",
    "class ReplaceDollarSigns(Transformer):\n",
    "    def process_lines(self, lines: Sequence[str]) -> Sequence[str]:\n",
    "        regex = r\"\\$(?!\\$)(.*?[^\\\\])\\$\"\n",
    "        replacement = r\"\\\\\\\\(\\1\\\\\\\\)\"\n",
    "\n",
    "        return [re.sub(regex, replacement, line) for line in lines]\n",
    "\n",
    "\n",
    "# Call export, get the text and the completions\n",
    "md_text, _ = export_notebook(\n",
    "    nb_json, transformers_map={'markdown/source': [ReplaceDollarSigns()]}\n",
    ")\n",
    "\n",
    "Markdown(md_text)"
   ]
  },
  {
   "cell_type": "code",
   "execution_count": null,
   "metadata": {},
   "outputs": [],
   "source": [
    "#| hide\n",
    "import nbdev; nbdev.nbdev_export()"
   ]
  }
 ],
 "metadata": {
  "kernelspec": {
   "display_name": "python3",
   "language": "python",
   "name": "python3"
  }
 },
 "nbformat": 4,
 "nbformat_minor": 2
}
