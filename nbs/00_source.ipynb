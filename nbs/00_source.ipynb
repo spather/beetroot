{
 "cells": [
  {
   "attachments": {},
   "cell_type": "markdown",
   "metadata": {},
   "source": [
    "# source\n",
    "\n",
    "> Functions that emit markdown from the `source` element of various notebook cell types"
   ]
  },
  {
   "cell_type": "code",
   "execution_count": null,
   "metadata": {},
   "outputs": [],
   "source": [
    "#| default_exp source"
   ]
  },
  {
   "cell_type": "code",
   "execution_count": null,
   "metadata": {},
   "outputs": [],
   "source": [
    "#| hide\n",
    "from nbdev.showdoc import *"
   ]
  },
  {
   "cell_type": "code",
   "execution_count": null,
   "metadata": {},
   "outputs": [],
   "source": [
    "#| hide\n",
    "from fastcore.test import *"
   ]
  },
  {
   "cell_type": "code",
   "execution_count": null,
   "metadata": {},
   "outputs": [],
   "source": [
    "#| hide\n",
    "#| export\n",
    "import io\n",
    "from typing import Iterable, Optional, Sequence, Tuple"
   ]
  },
  {
   "cell_type": "code",
   "execution_count": null,
   "metadata": {},
   "outputs": [],
   "source": [
    "# | exporti\n",
    "\n",
    "\n",
    "def is_directive_line(line: str):\n",
    "    return line.startswith('#|') or line.startswith('# |')\n",
    "\n",
    "\n",
    "def parse_directive_line(line: str) -> Tuple[str, Optional[bool]]:\n",
    "    assert is_directive_line(line)\n",
    "\n",
    "    directive = line.lstrip('# |').strip()\n",
    "    parts = [part.strip() for part in directive.split(':')]\n",
    "\n",
    "    # A directive is either a single key or key: value\n",
    "    assert len(parts) == 1 or len(parts) == 2\n",
    "    key, *value_list = parts\n",
    "    value_str: Optional[str] = value_list[0] if value_list else None\n",
    "\n",
    "    # Deal with string forms of true and false\n",
    "    # These directives are technically YAML, so allowing all the values\n",
    "    # for bool per [the spec](https://yaml.org/type/bool.html).\n",
    "\n",
    "    true_vals = [\n",
    "        'y',\n",
    "        'Y',\n",
    "        'yes',\n",
    "        'Yes',\n",
    "        'YES',\n",
    "        'true',\n",
    "        'True',\n",
    "        'TRUE',\n",
    "        'on',\n",
    "        'On',\n",
    "        'ON',\n",
    "    ]\n",
    "    false_vals = [\n",
    "        'n',\n",
    "        'N',\n",
    "        'no',\n",
    "        'No',\n",
    "        'NO',\n",
    "        'false',\n",
    "        'False',\n",
    "        'FALSE',\n",
    "        'off',\n",
    "        'Off',\n",
    "        'OFF',\n",
    "    ]\n",
    "\n",
    "    value: Optional[bool] = None\n",
    "    if value_str in true_vals:\n",
    "        value = True\n",
    "    elif value_str in false_vals:\n",
    "        value = False\n",
    "\n",
    "    return key, value"
   ]
  },
  {
   "cell_type": "code",
   "execution_count": null,
   "metadata": {},
   "outputs": [],
   "source": [
    "#| hide \n",
    "test_cases = [\n",
    "    {\n",
    "        'line': '#| hide',\n",
    "        'expected': ('hide', None)\n",
    "    },\n",
    "    {\n",
    "        'line': '#| echo: true',\n",
    "        'expected': ('echo', True)\n",
    "    },\n",
    "    {\n",
    "        'line': '# | echo: false',\n",
    "        'expected': ('echo', False)\n",
    "    },\n",
    "    {\n",
    "        'line': '# | code-fold: On',\n",
    "        'expected': ('code-fold', True)\n",
    "    },\n",
    "]\n",
    "\n",
    "for tc in test_cases:\n",
    "    actual = parse_directive_line(tc['line'])\n",
    "    test_eq(actual, tc['expected'])"
   ]
  },
  {
   "cell_type": "code",
   "execution_count": null,
   "metadata": {},
   "outputs": [],
   "source": [
    "# | export\n",
    "def emit_python_source(source: Sequence[str], stream: io.TextIOBase):\n",
    "    # Extract directives\n",
    "    directives = {}\n",
    "    i = 0 # initialize explicitly because `source` may be empty \n",
    "    for i, line in enumerate(source):\n",
    "        if is_directive_line(line):\n",
    "            key, value = parse_directive_line(line)\n",
    "            directives[key] = value\n",
    "        else:\n",
    "            break\n",
    "\n",
    "    # Handle directives per https://quarto.org/docs/reference/cells/cells-jupyter.html#code-output\n",
    "    # and https://quarto.org/docs/reference/cells/cells-jupyter.html#cell-output.\n",
    "\n",
    "    should_echo = 'echo' not in directives or directives['echo']\n",
    "    should_show_output = 'output' not in directives or directives['output']\n",
    "\n",
    "    if should_echo:\n",
    "        stream.write('```python\\n')\n",
    "        for line in source[i:]:\n",
    "            stream.write(line)\n",
    "        stream.write('\\n```\\n\\n')\n",
    "\n",
    "    return should_show_output"
   ]
  },
  {
   "cell_type": "code",
   "execution_count": null,
   "metadata": {},
   "outputs": [
    {
     "name": "stdout",
     "output_type": "stream",
     "text": [
      "```python\n",
      "name = 'world'\n",
      "print(f\"hello, {name}\")\n",
      "```\n",
      "\n",
      "\n"
     ]
    }
   ],
   "source": [
    "python_source = ['name = \\'world\\'\\n', 'print(f\"hello, {name}\")']\n",
    "stream = io.StringIO()\n",
    "\n",
    "should_show_output = emit_python_source(python_source, stream)\n",
    "\n",
    "stream.seek(0)\n",
    "output = stream.read()\n",
    "\n",
    "expected = \"\"\"\\\n",
    "```python\n",
    "name = 'world'\n",
    "print(f\"hello, {name}\")\n",
    "```\n",
    "\n",
    "\"\"\"\n",
    "\n",
    "test_eq(output, expected)\n",
    "test_eq(should_show_output, True)\n",
    "print(output)"
   ]
  },
  {
   "cell_type": "code",
   "execution_count": null,
   "metadata": {},
   "outputs": [],
   "source": [
    "# Test use of directives\n",
    "python_source = ['# | echo: false', '# | output: false', 'name = \\'world\\'\\n', 'print(f\"hello, {name}\")']\n",
    "stream = io.StringIO()\n",
    "\n",
    "should_show_output = emit_python_source(python_source, stream)\n",
    "\n",
    "stream.seek(0)\n",
    "output = stream.read()\n",
    "\n",
    "expected = ''\n",
    "\n",
    "test_eq(output, expected)\n",
    "test_eq(should_show_output, False)"
   ]
  },
  {
   "cell_type": "code",
   "execution_count": null,
   "metadata": {},
   "outputs": [],
   "source": [
    "#| export\n",
    "def emit_markdown_source(markdown: Iterable[str], stream: io.TextIOBase):\n",
    "    for line in markdown:\n",
    "        stream.write(line)\n",
    "    stream.write('\\n')"
   ]
  },
  {
   "cell_type": "code",
   "execution_count": null,
   "metadata": {},
   "outputs": [
    {
     "name": "stdout",
     "output_type": "stream",
     "text": [
      "# This is Markdown\n",
      "This is a [link](https://www.google.com).\n",
      "This is:\n",
      "\n",
      "* a \n",
      "* bulleted\n",
      "* list\n",
      "\n",
      "Yup.\n",
      "\n"
     ]
    }
   ],
   "source": [
    "markdown_source = [\n",
    "    '# This is Markdown\\n',\n",
    "    'This is a [link](https://www.google.com).\\n',\n",
    "    'This is:\\n',\n",
    "    '\\n',\n",
    "    '* a \\n',\n",
    "    '* bulleted\\n',\n",
    "    '* list\\n',\n",
    "    '\\n',\n",
    "    'Yup.',\n",
    "]\n",
    "stream = io.StringIO()\n",
    "\n",
    "emit_markdown_source(markdown_source, stream)\n",
    "\n",
    "stream.seek(0)\n",
    "output = stream.read()\n",
    "\n",
    "expected = \"\"\"\\\n",
    "# This is Markdown\n",
    "This is a [link](https://www.google.com).\n",
    "This is:\n",
    "\n",
    "* a \n",
    "* bulleted\n",
    "* list\n",
    "\n",
    "Yup.\n",
    "\"\"\"\n",
    "\n",
    "test_eq(output, expected)\n",
    "print(output)"
   ]
  },
  {
   "cell_type": "code",
   "execution_count": null,
   "metadata": {},
   "outputs": [],
   "source": [
    "#| hide\n",
    "import nbdev; nbdev.nbdev_export()"
   ]
  }
 ],
 "metadata": {
  "kernelspec": {
   "display_name": "python3",
   "language": "python",
   "name": "python3"
  }
 },
 "nbformat": 4,
 "nbformat_minor": 4
}
