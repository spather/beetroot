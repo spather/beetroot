{
 "cells": [
  {
   "attachments": {},
   "cell_type": "markdown",
   "metadata": {},
   "source": [
    "# source\n",
    "\n",
    "> Functions that emit markdown from the `source` element of various notebook cell types"
   ]
  },
  {
   "cell_type": "code",
   "execution_count": null,
   "metadata": {},
   "outputs": [],
   "source": [
    "#| default_exp source"
   ]
  },
  {
   "cell_type": "code",
   "execution_count": null,
   "metadata": {},
   "outputs": [],
   "source": [
    "#| hide\n",
    "from nbdev.showdoc import *"
   ]
  },
  {
   "cell_type": "code",
   "execution_count": null,
   "metadata": {},
   "outputs": [],
   "source": [
    "#| hide\n",
    "from fastcore.test import *"
   ]
  },
  {
   "cell_type": "code",
   "execution_count": null,
   "metadata": {},
   "outputs": [],
   "source": [
    "#| hide\n",
    "#| export\n",
    "import io\n",
    "from typing import Iterable"
   ]
  },
  {
   "cell_type": "code",
   "execution_count": null,
   "metadata": {},
   "outputs": [],
   "source": [
    "#| export\n",
    "def emit_python_source(source: Iterable[str], stream: io.TextIOBase):\n",
    "    stream.write('```python\\n')\n",
    "    for line in source: \n",
    "        stream.write(line)\n",
    "    stream.write('\\n```\\n\\n')    "
   ]
  },
  {
   "cell_type": "code",
   "execution_count": null,
   "metadata": {},
   "outputs": [
    {
     "name": "stdout",
     "output_type": "stream",
     "text": [
      "```python\n",
      "name = 'world'\n",
      "print(f\"hello, {name}\")\n",
      "```\n",
      "\n",
      "\n"
     ]
    }
   ],
   "source": [
    "python_source = [\"name = 'world'\\n\", \"print(f\\\"hello, {name}\\\")\"]\n",
    "stream = io.StringIO()\n",
    "\n",
    "emit_python_source(python_source, stream)\n",
    "\n",
    "stream.seek(0)\n",
    "output = stream.read()\n",
    "\n",
    "expected = \"\"\"\\\n",
    "```python\n",
    "name = 'world'\n",
    "print(f\"hello, {name}\")\n",
    "```\n",
    "\n",
    "\"\"\"\n",
    "\n",
    "test_eq(output, expected)\n",
    "print(output)"
   ]
  },
  {
   "cell_type": "code",
   "execution_count": null,
   "metadata": {},
   "outputs": [],
   "source": [
    "#| export\n",
    "def emit_markdown_source(markdown: Iterable[str], stream: io.TextIOBase):\n",
    "    for line in markdown:\n",
    "        stream.write(line)\n",
    "    stream.write('\\n')"
   ]
  },
  {
   "cell_type": "code",
   "execution_count": null,
   "metadata": {},
   "outputs": [
    {
     "name": "stdout",
     "output_type": "stream",
     "text": [
      "# This is Markdown\n",
      "This is a [link](https://www.google.com).\n",
      "This is:\n",
      "\n",
      "* a \n",
      "* bulleted\n",
      "* list\n",
      "\n",
      "Yup.\n",
      "\n"
     ]
    }
   ],
   "source": [
    "markdown_source = [\n",
    "    \"# This is Markdown\\n\",\n",
    "    \"This is a [link](https://www.google.com).\\n\",\n",
    "    \"This is:\\n\",\n",
    "    \"\\n\",\n",
    "    \"* a \\n\",\n",
    "    \"* bulleted\\n\",\n",
    "    \"* list\\n\",\n",
    "    \"\\n\",\n",
    "    \"Yup.\",\n",
    "]\n",
    "stream = io.StringIO()\n",
    "\n",
    "emit_markdown_source(markdown_source, stream)\n",
    "\n",
    "stream.seek(0)\n",
    "output = stream.read()\n",
    "\n",
    "expected = \"\"\"\\\n",
    "# This is Markdown\n",
    "This is a [link](https://www.google.com).\n",
    "This is:\n",
    "\n",
    "* a \n",
    "* bulleted\n",
    "* list\n",
    "\n",
    "Yup.\n",
    "\"\"\"\n",
    "\n",
    "test_eq(output, expected)\n",
    "print(output)"
   ]
  },
  {
   "cell_type": "code",
   "execution_count": null,
   "metadata": {},
   "outputs": [],
   "source": [
    "#| hide\n",
    "import nbdev; nbdev.nbdev_export()"
   ]
  }
 ],
 "metadata": {
  "kernelspec": {
   "display_name": "python3",
   "language": "python",
   "name": "python3"
  }
 },
 "nbformat": 4,
 "nbformat_minor": 4
}
