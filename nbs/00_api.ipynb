{
 "cells": [
  {
   "attachments": {},
   "cell_type": "markdown",
   "metadata": {},
   "source": [
    "# api\n",
    "\n",
    "> High-level API and entry point for beetroot"
   ]
  },
  {
   "cell_type": "code",
   "execution_count": null,
   "metadata": {},
   "outputs": [
    {
     "name": "stdout",
     "output_type": "stream",
     "text": [
      "The autoreload extension is already loaded. To reload it, use:\n",
      "  %reload_ext autoreload\n"
     ]
    }
   ],
   "source": [
    "# | hide\n",
    "%load_ext autoreload\n",
    "%autoreload 2"
   ]
  },
  {
   "cell_type": "code",
   "execution_count": null,
   "metadata": {},
   "outputs": [],
   "source": [
    "#| default_exp api"
   ]
  },
  {
   "cell_type": "code",
   "execution_count": null,
   "metadata": {},
   "outputs": [],
   "source": [
    "#| hide\n",
    "from nbdev.showdoc import *"
   ]
  },
  {
   "cell_type": "code",
   "execution_count": null,
   "metadata": {},
   "outputs": [],
   "source": [
    "#| hide\n",
    "from fastcore.test import *\n",
    "from IPython.display import display, Markdown\n",
    "import json\n",
    "import os\n",
    "from pathlib import Path\n",
    "import re\n",
    "import tempfile\n"
   ]
  },
  {
   "cell_type": "code",
   "execution_count": null,
   "metadata": {},
   "outputs": [],
   "source": [
    "#| hide\n",
    "#| export\n",
    "from typing import Dict, Iterable, List, Protocol, Sequence, TypeVar"
   ]
  },
  {
   "cell_type": "code",
   "execution_count": null,
   "metadata": {},
   "outputs": [],
   "source": [
    "# | export\n",
    "class SourceHandler(Protocol):\n",
    "    \"\"\"High-level API for handling cell source\"\"\"\n",
    "\n",
    "    def handle_markdown(self, lines: Sequence[str]):\n",
    "        \"\"\"Handle the source lines for a markdown cell\n",
    "        \n",
    "        Params:\n",
    "            lines: The lines of source text\n",
    "        \"\"\"\n",
    "        pass\n",
    "\n",
    "    def handle_python_source(self, lines: Sequence[str]) -> bool:\n",
    "        \"\"\"Handle the source lines for a python code cell\n",
    "        \n",
    "        Params:\n",
    "            lines: The lines of source text\n",
    "\n",
    "        Returns:\n",
    "            bool: Indicates whether the output should be handled for\n",
    "                  this cell.\n",
    "        \"\"\"\n",
    "        return False"
   ]
  },
  {
   "cell_type": "code",
   "execution_count": null,
   "metadata": {},
   "outputs": [],
   "source": [
    "# | exporti\n",
    "TOutputResult = TypeVar('TOutputResult', covariant=True)"
   ]
  },
  {
   "cell_type": "code",
   "execution_count": null,
   "metadata": {},
   "outputs": [],
   "source": [
    "# | export\n",
    "class OutputHandler(Protocol[TOutputResult]):\n",
    "    \"\"\"High-level API for handling cell outputs\"\"\"\n",
    "    def handle_output(self, output: Dict) -> TOutputResult:\n",
    "        \"\"\"Handle a single cell output\n",
    "        \n",
    "        Params:\n",
    "            output: a Dict representing a JSON output element as \n",
    "                    defined in the [notebook file format](https://nbformat.readthedocs.io/en/latest/format_description.html#code-cell-outputs)\n",
    "\n",
    "        Returns:\n",
    "            TOutputResult: a result whose type is defined by the implementation \n",
    "                           (typically a callable that completes any \n",
    "                           asynchronous processing required)                    \n",
    "        \"\"\"\n",
    "        pass"
   ]
  },
  {
   "cell_type": "code",
   "execution_count": null,
   "metadata": {},
   "outputs": [],
   "source": [
    "# | export\n",
    "def export_notebook(\n",
    "    nb_json: Dict,\n",
    "    source_handler: SourceHandler,\n",
    "    output_handler: OutputHandler[TOutputResult],\n",
    ") -> Iterable[TOutputResult]:\n",
    "    results: List[TOutputResult] = []\n",
    "    \n",
    "    for cell in nb_json['cells']:\n",
    "        if cell['cell_type'] == 'markdown':\n",
    "            source_handler.handle_markdown(cell['source'])\n",
    "        elif cell['cell_type'] == 'code':\n",
    "            should_show_output = source_handler.handle_python_source(cell['source'])\n",
    "\n",
    "            if not should_show_output:\n",
    "                continue\n",
    "\n",
    "            for output in cell['outputs']:\n",
    "                result = output_handler.handle_output(output)\n",
    "                results.append(result)\n",
    "\n",
    "\n",
    "    return results"
   ]
  },
  {
   "cell_type": "code",
   "execution_count": null,
   "metadata": {},
   "outputs": [],
   "source": [
    "#| hide\n",
    "import nbdev; nbdev.nbdev_export()"
   ]
  }
 ],
 "metadata": {
  "kernelspec": {
   "display_name": "python3",
   "language": "python",
   "name": "python3"
  }
 },
 "nbformat": 4,
 "nbformat_minor": 2
}
