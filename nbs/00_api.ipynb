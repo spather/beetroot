{
 "cells": [
  {
   "attachments": {},
   "cell_type": "markdown",
   "metadata": {},
   "source": [
    "# api\n",
    "\n",
    "> High-level API and entry point for beetroot"
   ]
  },
  {
   "cell_type": "code",
   "execution_count": null,
   "metadata": {},
   "outputs": [
    {
     "name": "stdout",
     "output_type": "stream",
     "text": [
      "The autoreload extension is already loaded. To reload it, use:\n",
      "  %reload_ext autoreload\n"
     ]
    }
   ],
   "source": [
    "# | hide\n",
    "%load_ext autoreload\n",
    "%autoreload 2"
   ]
  },
  {
   "cell_type": "code",
   "execution_count": null,
   "metadata": {},
   "outputs": [],
   "source": [
    "#| default_exp api"
   ]
  },
  {
   "cell_type": "code",
   "execution_count": null,
   "metadata": {},
   "outputs": [],
   "source": [
    "#| hide\n",
    "from nbdev.showdoc import *"
   ]
  },
  {
   "cell_type": "code",
   "execution_count": null,
   "metadata": {},
   "outputs": [],
   "source": [
    "#| hide\n",
    "from fastcore.test import *\n",
    "from IPython.display import display, Markdown\n",
    "import json\n",
    "import os\n",
    "from pathlib import Path\n",
    "import re\n",
    "import tempfile\n"
   ]
  },
  {
   "cell_type": "code",
   "execution_count": null,
   "metadata": {},
   "outputs": [],
   "source": [
    "#| hide\n",
    "#| export\n",
    "from typing import Dict, Iterable, List, Protocol, Sequence, TypeVar"
   ]
  },
  {
   "cell_type": "code",
   "execution_count": null,
   "metadata": {},
   "outputs": [],
   "source": [
    "# | export\n",
    "class SourceHandler(Protocol):\n",
    "    \"\"\"High-level API for handling cell source\"\"\"\n",
    "\n",
    "    def handle_markdown(self, lines: Sequence[str]):\n",
    "        \"\"\"Handle the source lines for a markdown cell\n",
    "\n",
    "        Parameters\n",
    "        ----------\n",
    "        lines\n",
    "            The lines of source text\n",
    "        \"\"\"\n",
    "        pass\n",
    "\n",
    "    def handle_python_source(self, lines: Sequence[str]) -> bool:\n",
    "        \"\"\"Handle the source lines for a python code cell\n",
    "\n",
    "        Parameters\n",
    "        ----------\n",
    "        lines\n",
    "            The lines of source text\n",
    "\n",
    "        Returns\n",
    "        -------\n",
    "        bool\n",
    "            Indicates whether the output should be handled for \\\n",
    "            this cell.\n",
    "        \"\"\"\n",
    "        return False"
   ]
  },
  {
   "cell_type": "code",
   "execution_count": null,
   "metadata": {},
   "outputs": [
    {
     "data": {
      "text/markdown": [
       "---\n",
       "\n",
       "[source](https://github.com/spather/beetroot/blob/main/beetroot/api.py#L13){target=\"_blank\" style=\"float:right; font-size:smaller\"}\n",
       "\n",
       "### SourceHandler.handle_markdown\n",
       "\n",
       ">      SourceHandler.handle_markdown (lines:Sequence[str])\n",
       "\n",
       "Handle the source lines for a markdown cell\n",
       "\n",
       "|    | **Type** | **Details** |\n",
       "| -- | -------- | ----------- |\n",
       "| lines | Sequence | The lines of source text |"
      ],
      "text/plain": [
       "---\n",
       "\n",
       "[source](https://github.com/spather/beetroot/blob/main/beetroot/api.py#L13){target=\"_blank\" style=\"float:right; font-size:smaller\"}\n",
       "\n",
       "### SourceHandler.handle_markdown\n",
       "\n",
       ">      SourceHandler.handle_markdown (lines:Sequence[str])\n",
       "\n",
       "Handle the source lines for a markdown cell\n",
       "\n",
       "|    | **Type** | **Details** |\n",
       "| -- | -------- | ----------- |\n",
       "| lines | Sequence | The lines of source text |"
      ]
     },
     "execution_count": null,
     "metadata": {},
     "output_type": "execute_result"
    }
   ],
   "source": [
    "show_doc(SourceHandler.handle_markdown)"
   ]
  },
  {
   "cell_type": "code",
   "execution_count": null,
   "metadata": {},
   "outputs": [
    {
     "data": {
      "text/markdown": [
       "---\n",
       "\n",
       "[source](https://github.com/spather/beetroot/blob/main/beetroot/api.py#L21){target=\"_blank\" style=\"float:right; font-size:smaller\"}\n",
       "\n",
       "### SourceHandler.handle_python_source\n",
       "\n",
       ">      SourceHandler.handle_python_source (lines:Sequence[str])\n",
       "\n",
       "Handle the source lines for a python code cell\n",
       "\n",
       "|    | **Type** | **Details** |\n",
       "| -- | -------- | ----------- |\n",
       "| lines | Sequence | The lines of source text |\n",
       "| **Returns** | **bool** | **Indicates whether the output should be handled for<br>this cell.** |"
      ],
      "text/plain": [
       "---\n",
       "\n",
       "[source](https://github.com/spather/beetroot/blob/main/beetroot/api.py#L21){target=\"_blank\" style=\"float:right; font-size:smaller\"}\n",
       "\n",
       "### SourceHandler.handle_python_source\n",
       "\n",
       ">      SourceHandler.handle_python_source (lines:Sequence[str])\n",
       "\n",
       "Handle the source lines for a python code cell\n",
       "\n",
       "|    | **Type** | **Details** |\n",
       "| -- | -------- | ----------- |\n",
       "| lines | Sequence | The lines of source text |\n",
       "| **Returns** | **bool** | **Indicates whether the output should be handled for<br>this cell.** |"
      ]
     },
     "execution_count": null,
     "metadata": {},
     "output_type": "execute_result"
    }
   ],
   "source": [
    "show_doc(SourceHandler.handle_python_source)"
   ]
  },
  {
   "cell_type": "code",
   "execution_count": null,
   "metadata": {},
   "outputs": [],
   "source": [
    "# | exporti\n",
    "TOutputResult = TypeVar('TOutputResult', covariant=True)"
   ]
  },
  {
   "cell_type": "code",
   "execution_count": null,
   "metadata": {},
   "outputs": [],
   "source": [
    "# | export\n",
    "class OutputHandler(Protocol[TOutputResult]):\n",
    "    \"\"\"High-level API for handling cell outputs\"\"\"\n",
    "    def handle_output(self, output: Dict) -> TOutputResult:\n",
    "        \"\"\"Handle a single cell output\n",
    "\n",
    "        Parameters\n",
    "        ----------\n",
    "        output\n",
    "            a Dict representing a JSON output element as \\\n",
    "            defined in the [notebook file format](https://nbformat.readthedocs.io/en/latest/format_description.html#code-cell-outputs)\n",
    "\n",
    "        Returns\n",
    "        -------\n",
    "        TOutputResult\n",
    "            a result whose type is defined by the implementation \\\n",
    "            (typically a callable that completes any \\\n",
    "            asynchronous processing required)\n",
    "        \"\"\"\n",
    "        pass"
   ]
  },
  {
   "cell_type": "code",
   "execution_count": null,
   "metadata": {},
   "outputs": [
    {
     "data": {
      "text/markdown": [
       "---\n",
       "\n",
       "[source](https://github.com/spather/beetroot/blob/main/beetroot/api.py#L40){target=\"_blank\" style=\"float:right; font-size:smaller\"}\n",
       "\n",
       "### OutputHandler.handle_output\n",
       "\n",
       ">      OutputHandler.handle_output (output:Dict)\n",
       "\n",
       "Handle a single cell output\n",
       "\n",
       "|    | **Type** | **Details** |\n",
       "| -- | -------- | ----------- |\n",
       "| output | Dict |  |\n",
       "| **Returns** | **TOutputResult** | **(typically a callable that completes any <br>asynchronous processing required)                    ** |"
      ],
      "text/plain": [
       "---\n",
       "\n",
       "[source](https://github.com/spather/beetroot/blob/main/beetroot/api.py#L40){target=\"_blank\" style=\"float:right; font-size:smaller\"}\n",
       "\n",
       "### OutputHandler.handle_output\n",
       "\n",
       ">      OutputHandler.handle_output (output:Dict)\n",
       "\n",
       "Handle a single cell output\n",
       "\n",
       "|    | **Type** | **Details** |\n",
       "| -- | -------- | ----------- |\n",
       "| output | Dict |  |\n",
       "| **Returns** | **TOutputResult** | **(typically a callable that completes any <br>asynchronous processing required)                    ** |"
      ]
     },
     "execution_count": null,
     "metadata": {},
     "output_type": "execute_result"
    }
   ],
   "source": [
    "show_doc(OutputHandler.handle_output)"
   ]
  },
  {
   "cell_type": "code",
   "execution_count": null,
   "metadata": {},
   "outputs": [],
   "source": [
    "# | export\n",
    "def handle_notebook(\n",
    "    nb_json: Dict,\n",
    "    source_handler: SourceHandler,\n",
    "    output_handler: OutputHandler[TOutputResult],\n",
    ") -> Iterable[TOutputResult]:\n",
    "    \"\"\"\n",
    "    Handle a notebook with beetroot\n",
    "\n",
    "    Parameters\n",
    "    ----------\n",
    "    nb_json\n",
    "        A Dict representing the content of a notebook as JSON\n",
    "\n",
    "    source_handler\n",
    "        A handler for source elements that conforms to the \\\n",
    "        `SourceHandler` protocol\n",
    "\n",
    "    output_handler\n",
    "        A handler for output elements that conforms to the \\\n",
    "        `OutputHandler` protocol\n",
    "\n",
    "    Returns\n",
    "    -------\n",
    "    Iterable[TOutputResult]\n",
    "        An iterable of results returned from the output handler\n",
    "    \"\"\"\n",
    "    results: List[TOutputResult] = []\n",
    "\n",
    "    for cell in nb_json['cells']:\n",
    "        if cell['cell_type'] == 'markdown':\n",
    "            source_handler.handle_markdown(cell['source'])\n",
    "        elif cell['cell_type'] == 'code':\n",
    "            should_show_output = source_handler.handle_python_source(cell['source'])\n",
    "\n",
    "            if not should_show_output:\n",
    "                continue\n",
    "\n",
    "            for output in cell['outputs']:\n",
    "                result = output_handler.handle_output(output)\n",
    "                results.append(result)\n",
    "\n",
    "\n",
    "    return results"
   ]
  },
  {
   "cell_type": "code",
   "execution_count": null,
   "metadata": {},
   "outputs": [],
   "source": [
    "#| hide\n",
    "import nbdev; nbdev.nbdev_export()"
   ]
  }
 ],
 "metadata": {
  "kernelspec": {
   "display_name": "python3",
   "language": "python",
   "name": "python3"
  }
 },
 "nbformat": 4,
 "nbformat_minor": 2
}
